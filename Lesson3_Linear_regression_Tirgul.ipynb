{
 "cells": [
  {
   "cell_type": "code",
   "execution_count": 1,
   "id": "c7d9f9f0-0e58-43b0-90b4-092c9a87eac7",
   "metadata": {},
   "outputs": [],
   "source": [
    "import pandas as pd\n",
    "import matplotlib.pyplot as plt\n",
    "import numpy as np\n",
    "import os\n",
    "import statsmodels.api as sm\n",
    "import pickle as pkl\n",
    "from mpl_toolkits.mplot3d import Axes3D\n",
    "import matplotlib.pyplot as plt\n",
    "%matplotlib widget"
   ]
  },
  {
   "cell_type": "markdown",
   "id": "a5c2dabf-0a8f-4f74-901d-119bc463590f",
   "metadata": {},
   "source": [
    "<div dir=\"rtl\">   להלן בעיה: הרלב\"ד מעוניין לחזות כמות תאונות דרכים בשנה על ידי כמות הרכבים שיש על הכביש. ישנם מספר סוגים של רכבים. 1. משאיות, אופניים, אמבולנס, אוטובוסים ומכוניות. כלומר יש 5 סוגים שונים של רכבים.  "
   ]
  },
  {
   "cell_type": "markdown",
   "id": "0c033db3-42eb-4999-b065-49ff9172073a",
   "metadata": {},
   "source": [
    "<div dir=\"rtl\">  ננסה לעשות מודל רגרסיה:"
   ]
  },
  {
   "cell_type": "markdown",
   "id": "15c75e2c-16b5-4867-afd4-4fbb3e5c30b6",
   "metadata": {},
   "source": [
    "$$\\hat{Y} = b_0 + b_1*X_1 + b_2*X_2 +b_3*X_3 + b_4*X_4   + b_5 *X_5$$"
   ]
  },
  {
   "cell_type": "markdown",
   "id": "0a7e3a26-d4db-4001-8995-9b5d6d25e17e",
   "metadata": {},
   "source": [
    "<div dir=\"rtl\"> כאשר $X_1$ מצין מס' משאיות, $X_2$ מס' אופניים, $X_3$ מס' אמבולנס, $X_4$ מס' אוטובוסים ו-$X_5$ מס' מכוניות."
   ]
  },
  {
   "cell_type": "code",
   "execution_count": 2,
   "id": "6f96c983-519a-40f0-ac8b-84f59d592e96",
   "metadata": {},
   "outputs": [],
   "source": [
    "data = pkl.load(open('../pkl/y_vals_multi_1_tirgul.pkl', 'rb'))"
   ]
  },
  {
   "cell_type": "markdown",
   "id": "29fdc8a9-93a5-4642-be4b-b5b8e0225fe3",
   "metadata": {},
   "source": [
    "<div dir=\"rtl\"> מטלה: נא לבנות מודל של רגרסיה מרובה, ללא המשתנים הקטגוריאלים. יש לבדוק אילו משתנים נכנסו למודל ואילו לא.  "
   ]
  },
  {
   "cell_type": "code",
   "execution_count": 3,
   "id": "a1cca555-024a-47e8-ad0b-411f1f0affba",
   "metadata": {},
   "outputs": [],
   "source": [
    "data['Intercept'] = 1"
   ]
  },
  {
   "cell_type": "code",
   "execution_count": 4,
   "id": "ed4295d2-1e93-4e2a-aa25-51e9832d9d7c",
   "metadata": {},
   "outputs": [
    {
     "name": "stdout",
     "output_type": "stream",
     "text": [
      "                            OLS Regression Results                            \n",
      "==============================================================================\n",
      "Dep. Variable:              Accidents   R-squared:                       0.998\n",
      "Model:                            OLS   Adj. R-squared:                  0.998\n",
      "Method:                 Least Squares   F-statistic:                 3.027e+04\n",
      "Date:                Thu, 19 Oct 2023   Prob (F-statistic):               0.00\n",
      "Time:                        13:17:03   Log-Likelihood:                -3370.9\n",
      "No. Observations:                 350   AIC:                             6754.\n",
      "Df Residuals:                     344   BIC:                             6777.\n",
      "Df Model:                           5                                         \n",
      "Covariance Type:            nonrobust                                         \n",
      "==============================================================================\n",
      "                 coef    std err          t      P>|t|      [0.025      0.975]\n",
      "------------------------------------------------------------------------------\n",
      "Intercept   3629.2656   1503.568      2.414      0.016     671.922    6586.609\n",
      "Trucks         5.0248      0.014    352.463      0.000       4.997       5.053\n",
      "Bikes          2.7047      0.356      7.605      0.000       2.005       3.404\n",
      "Ambulance      0.4882      0.437      1.118      0.264      -0.371       1.347\n",
      "Buses          1.9628      0.077     25.440      0.000       1.811       2.115\n",
      "Cars           1.1973      0.007    175.675      0.000       1.184       1.211\n",
      "==============================================================================\n",
      "Omnibus:                       31.586   Durbin-Watson:                   2.104\n",
      "Prob(Omnibus):                  0.000   Jarque-Bera (JB):               25.163\n",
      "Skew:                          -0.563   Prob(JB):                     3.43e-06\n",
      "Kurtosis:                       2.323   Cond. No.                     1.16e+06\n",
      "==============================================================================\n",
      "\n",
      "Notes:\n",
      "[1] Standard Errors assume that the covariance matrix of the errors is correctly specified.\n",
      "[2] The condition number is large, 1.16e+06. This might indicate that there are\n",
      "strong multicollinearity or other numerical problems.\n"
     ]
    }
   ],
   "source": [
    "## If we don't add it, the intercept will be 0.\n",
    "# Create a linear regression model\n",
    "model = sm.OLS(data['Accidents'], data.loc[:, ['Intercept', 'Trucks', 'Bikes', 'Ambulance', 'Buses', 'Cars']])\n",
    "# Fit the model\n",
    "results = model.fit()\n",
    "# Print summary statistics, including p-values for each coefficient\n",
    "print(results.summary())"
   ]
  },
  {
   "cell_type": "markdown",
   "id": "9592f845-f834-474c-9b61-2cad5b44002d",
   "metadata": {},
   "source": [
    "<div dir=\"rtl\"> מבחני ההשערות הם:"
   ]
  },
  {
   "cell_type": "markdown",
   "id": "9743f59e-f637-439f-8703-fe5e2de25f14",
   "metadata": {},
   "source": [
    "<div dir=\"rtl\"> גם כשאנחנו עושים מודל רגרסיה אנחנו עושים מבחן סטטיסטי. המבחן בעצם מתייחס לפרמטרים של המודל: $b_0$, $b_1$, $b_2$ ."
   ]
  },
  {
   "cell_type": "markdown",
   "id": "23ff7ae9-f278-4a7b-b042-3aa881669039",
   "metadata": {},
   "source": [
    "<div dir=\"rtl\"> פורמלית המבחן עבור כל פרמטר נראה כך:"
   ]
  },
  {
   "cell_type": "markdown",
   "id": "734037f8-9805-4fa8-9527-8d53772d2c96",
   "metadata": {},
   "source": [
    "$$H_0: b_0 = 0, H_1: b_0 \\neq 0$$\n",
    "$$H_0: b_1 = 0, H_1: b_1 \\neq 0$$\n",
    "$$H_0: b_2 = 0, H_1: b_2 \\neq 0$$\n",
    "$$H_0: b_3 = 0, H_1: b_3 \\neq 0$$\n",
    "$$H_0: b_4 = 0, H_1: b_4 \\neq 0$$\n",
    "$$H_0: b_5 = 0, H_1: b_5 \\neq 0$$\n",
    "\n"
   ]
  },
  {
   "cell_type": "markdown",
   "id": "5c2fec45-3a90-4277-b367-6578ecb212b5",
   "metadata": {},
   "source": [
    "<div dir=\"rtl\"> נרצה לבדוק האם כל משתנה הוא מובהק סטטיסטית ואז נוכל להכניסו למודל. מקובל לבדוק ברמת מובהקות של 0.05.  נבדוק את התוצאה בפלט של המודל בעמודה $P >|t|$."
   ]
  },
  {
   "cell_type": "markdown",
   "id": "00e7975d-83a5-4288-a5b9-7ff0f0b12c10",
   "metadata": {},
   "source": [
    "<div dir=\"rtl\"> לפי הפלט כולם קטנים מ 0.05."
   ]
  },
  {
   "cell_type": "markdown",
   "id": "2a793c20-4800-49d8-8f87-cc5e9a1866a5",
   "metadata": {},
   "source": [
    "<div dir=\"rtl\">  אם אחד הפרמטרים לא נכנס למודל אז נוציא את המשתנה ונבנה מודל חדש."
   ]
  },
  {
   "cell_type": "markdown",
   "id": "66eba4b0-2534-4154-b732-264536bb4d08",
   "metadata": {},
   "source": [
    "<div dir=\"rtl\">  לפי התוצאות נראה שאמבלונס לא נכנס למודל. נריץ מחדש מודל בלי המשתנה הזה:"
   ]
  },
  {
   "cell_type": "code",
   "execution_count": 5,
   "id": "d41fb6c6-807c-444f-a3ce-52ed58f1ba32",
   "metadata": {},
   "outputs": [
    {
     "name": "stdout",
     "output_type": "stream",
     "text": [
      "                            OLS Regression Results                            \n",
      "==============================================================================\n",
      "Dep. Variable:              Accidents   R-squared:                       0.998\n",
      "Model:                            OLS   Adj. R-squared:                  0.998\n",
      "Method:                 Least Squares   F-statistic:                 3.781e+04\n",
      "Date:                Thu, 19 Oct 2023   Prob (F-statistic):               0.00\n",
      "Time:                        13:17:04   Log-Likelihood:                -3371.5\n",
      "No. Observations:                 350   AIC:                             6753.\n",
      "Df Residuals:                     345   BIC:                             6772.\n",
      "Df Model:                           4                                         \n",
      "Covariance Type:            nonrobust                                         \n",
      "==============================================================================\n",
      "                 coef    std err          t      P>|t|      [0.025      0.975]\n",
      "------------------------------------------------------------------------------\n",
      "Intercept   4358.2336   1355.297      3.216      0.001    1692.549    7023.918\n",
      "Trucks         5.0247      0.014    352.339      0.000       4.997       5.053\n",
      "Bikes          2.6570      0.353      7.522      0.000       1.962       3.352\n",
      "Buses          1.9634      0.077     25.439      0.000       1.812       2.115\n",
      "Cars           1.1970      0.007    175.738      0.000       1.184       1.210\n",
      "==============================================================================\n",
      "Omnibus:                       32.632   Durbin-Watson:                   2.097\n",
      "Prob(Omnibus):                  0.000   Jarque-Bera (JB):               26.070\n",
      "Skew:                          -0.575   Prob(JB):                     2.18e-06\n",
      "Kurtosis:                       2.318   Cond. No.                     1.05e+06\n",
      "==============================================================================\n",
      "\n",
      "Notes:\n",
      "[1] Standard Errors assume that the covariance matrix of the errors is correctly specified.\n",
      "[2] The condition number is large, 1.05e+06. This might indicate that there are\n",
      "strong multicollinearity or other numerical problems.\n"
     ]
    }
   ],
   "source": [
    "## If we don't add it, the intercept will be 0.\n",
    "# Create a linear regression model\n",
    "model = sm.OLS(data['Accidents'], data.loc[:, [ 'Intercept','Trucks', 'Bikes',  'Buses', 'Cars']])\n",
    "# Fit the model\n",
    "results = model.fit()\n",
    "# Print summary statistics, including p-values for each coefficient\n",
    "print(results.summary())"
   ]
  },
  {
   "cell_type": "markdown",
   "id": "d4e5d10f-0882-4c21-aa23-9f3281b3de97",
   "metadata": {},
   "source": [
    "<div dir=\"rtl\">  כעת נראה שכל המשתנים נכנסו למודל."
   ]
  },
  {
   "cell_type": "markdown",
   "id": "68a61828-a8fd-4c41-b2ad-367b4e166bb9",
   "metadata": {},
   "source": [
    "## Dummy variables"
   ]
  },
  {
   "cell_type": "markdown",
   "id": "cbc80888-f491-4ff2-a1a3-5956b77afcc3",
   "metadata": {},
   "source": [
    "<div dir=\"rtl\"> כעת ננסה לבדוק האם ניתן להכניס למודל את המשתנים הקטגוריאלים. תחילה נבנה אותם ונכניס אותם לDataFrame."
   ]
  },
  {
   "cell_type": "code",
   "execution_count": 6,
   "id": "87fd15d9-f0c4-4820-93ba-0fd4014c9458",
   "metadata": {},
   "outputs": [
    {
     "data": {
      "text/html": [
       "<div>\n",
       "<style scoped>\n",
       "    .dataframe tbody tr th:only-of-type {\n",
       "        vertical-align: middle;\n",
       "    }\n",
       "\n",
       "    .dataframe tbody tr th {\n",
       "        vertical-align: top;\n",
       "    }\n",
       "\n",
       "    .dataframe thead th {\n",
       "        text-align: right;\n",
       "    }\n",
       "</style>\n",
       "<table border=\"1\" class=\"dataframe\">\n",
       "  <thead>\n",
       "    <tr style=\"text-align: right;\">\n",
       "      <th></th>\n",
       "      <th>Trucks</th>\n",
       "      <th>Bikes</th>\n",
       "      <th>Ambulance</th>\n",
       "      <th>Buses</th>\n",
       "      <th>Cars</th>\n",
       "      <th>Region</th>\n",
       "      <th>Region_name</th>\n",
       "      <th>day_time</th>\n",
       "      <th>Time</th>\n",
       "      <th>Accidents</th>\n",
       "      <th>Intercept</th>\n",
       "      <th>Region_name_Galil</th>\n",
       "      <th>Region_name_Gush_Dan</th>\n",
       "      <th>Region_name_Shomron</th>\n",
       "      <th>Region_name_South</th>\n",
       "      <th>Time_Day</th>\n",
       "      <th>Time_Night</th>\n",
       "    </tr>\n",
       "  </thead>\n",
       "  <tbody>\n",
       "    <tr>\n",
       "      <th>0</th>\n",
       "      <td>11698</td>\n",
       "      <td>1997</td>\n",
       "      <td>1250</td>\n",
       "      <td>5867</td>\n",
       "      <td>141916</td>\n",
       "      <td>0</td>\n",
       "      <td>South</td>\n",
       "      <td>0</td>\n",
       "      <td>Night</td>\n",
       "      <td>254534</td>\n",
       "      <td>1</td>\n",
       "      <td>0</td>\n",
       "      <td>0</td>\n",
       "      <td>0</td>\n",
       "      <td>1</td>\n",
       "      <td>0</td>\n",
       "      <td>1</td>\n",
       "    </tr>\n",
       "    <tr>\n",
       "      <th>1</th>\n",
       "      <td>17903</td>\n",
       "      <td>2283</td>\n",
       "      <td>1449</td>\n",
       "      <td>1329</td>\n",
       "      <td>131118</td>\n",
       "      <td>1</td>\n",
       "      <td>Gush_Dan</td>\n",
       "      <td>0</td>\n",
       "      <td>Night</td>\n",
       "      <td>261222</td>\n",
       "      <td>1</td>\n",
       "      <td>0</td>\n",
       "      <td>1</td>\n",
       "      <td>0</td>\n",
       "      <td>0</td>\n",
       "      <td>0</td>\n",
       "      <td>1</td>\n",
       "    </tr>\n",
       "    <tr>\n",
       "      <th>2</th>\n",
       "      <td>28415</td>\n",
       "      <td>1020</td>\n",
       "      <td>1216</td>\n",
       "      <td>4284</td>\n",
       "      <td>104860</td>\n",
       "      <td>3</td>\n",
       "      <td>Shomron</td>\n",
       "      <td>1</td>\n",
       "      <td>Day</td>\n",
       "      <td>284060</td>\n",
       "      <td>1</td>\n",
       "      <td>0</td>\n",
       "      <td>0</td>\n",
       "      <td>1</td>\n",
       "      <td>0</td>\n",
       "      <td>1</td>\n",
       "      <td>0</td>\n",
       "    </tr>\n",
       "    <tr>\n",
       "      <th>3</th>\n",
       "      <td>17872</td>\n",
       "      <td>1769</td>\n",
       "      <td>1133</td>\n",
       "      <td>9290</td>\n",
       "      <td>179883</td>\n",
       "      <td>3</td>\n",
       "      <td>Shomron</td>\n",
       "      <td>0</td>\n",
       "      <td>Night</td>\n",
       "      <td>337163</td>\n",
       "      <td>1</td>\n",
       "      <td>0</td>\n",
       "      <td>0</td>\n",
       "      <td>1</td>\n",
       "      <td>0</td>\n",
       "      <td>0</td>\n",
       "      <td>1</td>\n",
       "    </tr>\n",
       "    <tr>\n",
       "      <th>4</th>\n",
       "      <td>22456</td>\n",
       "      <td>1325</td>\n",
       "      <td>1746</td>\n",
       "      <td>4518</td>\n",
       "      <td>117766</td>\n",
       "      <td>3</td>\n",
       "      <td>Shomron</td>\n",
       "      <td>1</td>\n",
       "      <td>Day</td>\n",
       "      <td>270994</td>\n",
       "      <td>1</td>\n",
       "      <td>0</td>\n",
       "      <td>0</td>\n",
       "      <td>1</td>\n",
       "      <td>0</td>\n",
       "      <td>1</td>\n",
       "      <td>0</td>\n",
       "    </tr>\n",
       "  </tbody>\n",
       "</table>\n",
       "</div>"
      ],
      "text/plain": [
       "   Trucks  Bikes  Ambulance  Buses    Cars  Region Region_name  day_time  \\\n",
       "0   11698   1997       1250   5867  141916       0       South         0   \n",
       "1   17903   2283       1449   1329  131118       1    Gush_Dan         0   \n",
       "2   28415   1020       1216   4284  104860       3     Shomron         1   \n",
       "3   17872   1769       1133   9290  179883       3     Shomron         0   \n",
       "4   22456   1325       1746   4518  117766       3     Shomron         1   \n",
       "\n",
       "    Time  Accidents  Intercept  Region_name_Galil  Region_name_Gush_Dan  \\\n",
       "0  Night     254534          1                  0                     0   \n",
       "1  Night     261222          1                  0                     1   \n",
       "2    Day     284060          1                  0                     0   \n",
       "3  Night     337163          1                  0                     0   \n",
       "4    Day     270994          1                  0                     0   \n",
       "\n",
       "   Region_name_Shomron  Region_name_South  Time_Day  Time_Night  \n",
       "0                    0                  1         0           1  \n",
       "1                    0                  0         0           1  \n",
       "2                    1                  0         1           0  \n",
       "3                    1                  0         0           1  \n",
       "4                    1                  0         1           0  "
      ]
     },
     "execution_count": 6,
     "metadata": {},
     "output_type": "execute_result"
    }
   ],
   "source": [
    "dummy_variables = pd.get_dummies(data[ ['Region_name', 'Time']])\n",
    "\n",
    "# Concatenate dummy variables with the original DataFrame and drop the original column\n",
    "data = pd.concat([data, dummy_variables], axis=1)\n",
    "\n",
    "data.head()"
   ]
  },
  {
   "cell_type": "markdown",
   "id": "12cea93f-0ccd-4e8b-9dc1-24fb9e3f3c32",
   "metadata": {},
   "source": [
    "<div dir=\"rtl\"> נכניס אותם למודל ונראה מה התוצאה:"
   ]
  },
  {
   "cell_type": "code",
   "execution_count": 7,
   "id": "5964aeea-745e-47b1-ba6c-ee69df2f2119",
   "metadata": {},
   "outputs": [
    {
     "data": {
      "text/plain": [
       "Index(['Trucks', 'Bikes', 'Ambulance', 'Buses', 'Cars', 'Region',\n",
       "       'Region_name', 'day_time', 'Time', 'Accidents', 'Intercept',\n",
       "       'Region_name_Galil', 'Region_name_Gush_Dan', 'Region_name_Shomron',\n",
       "       'Region_name_South', 'Time_Day', 'Time_Night'],\n",
       "      dtype='object')"
      ]
     },
     "execution_count": 7,
     "metadata": {},
     "output_type": "execute_result"
    }
   ],
   "source": [
    "data.columns"
   ]
  },
  {
   "cell_type": "code",
   "execution_count": 8,
   "id": "7191601f-3dd2-4556-9ce0-6fd2cb542ed0",
   "metadata": {},
   "outputs": [
    {
     "name": "stdout",
     "output_type": "stream",
     "text": [
      "                            OLS Regression Results                            \n",
      "==============================================================================\n",
      "Dep. Variable:              Accidents   R-squared:                       1.000\n",
      "Model:                            OLS   Adj. R-squared:                  1.000\n",
      "Method:                 Least Squares   F-statistic:                 2.713e+07\n",
      "Date:                Thu, 19 Oct 2023   Prob (F-statistic):               0.00\n",
      "Time:                        13:17:04   Log-Likelihood:                -2097.7\n",
      "No. Observations:                 350   AIC:                             4213.\n",
      "Df Residuals:                     341   BIC:                             4248.\n",
      "Df Model:                           8                                         \n",
      "Covariance Type:            nonrobust                                         \n",
      "========================================================================================\n",
      "                           coef    std err          t      P>|t|      [0.025      0.975]\n",
      "----------------------------------------------------------------------------------------\n",
      "Intercept             7956.8030     37.172    214.056      0.000    7883.689    8029.917\n",
      "Trucks                   4.9999      0.000   1.31e+04      0.000       4.999       5.001\n",
      "Bikes                    3.0109      0.009    321.810      0.000       2.992       3.029\n",
      "Buses                    2.0033      0.002    979.693      0.000       1.999       2.007\n",
      "Cars                     1.1999      0.000   6619.658      0.000       1.200       1.200\n",
      "Region_name_Galil    -7693.1538     14.731   -522.240      0.000   -7722.129   -7664.179\n",
      "Region_name_Gush_Dan -2986.4370     14.909   -200.309      0.000   -3015.763   -2957.111\n",
      "Region_name_Shomron     -6.4368     14.622     -0.440      0.660     -35.198      22.324\n",
      "Time_Day             -3487.8880     10.613   -328.635      0.000   -3508.764   -3467.012\n",
      "==============================================================================\n",
      "Omnibus:                        0.948   Durbin-Watson:                   1.970\n",
      "Prob(Omnibus):                  0.622   Jarque-Bera (JB):                0.807\n",
      "Skew:                           0.114   Prob(JB):                        0.668\n",
      "Kurtosis:                       3.056   Cond. No.                     1.10e+06\n",
      "==============================================================================\n",
      "\n",
      "Notes:\n",
      "[1] Standard Errors assume that the covariance matrix of the errors is correctly specified.\n",
      "[2] The condition number is large, 1.1e+06. This might indicate that there are\n",
      "strong multicollinearity or other numerical problems.\n"
     ]
    }
   ],
   "source": [
    "model = sm.OLS(data['Accidents'], data.loc[:, [ 'Intercept','Trucks', 'Bikes',  'Buses', 'Cars', 'Region_name_Galil', 'Region_name_Gush_Dan', 'Region_name_Shomron','Time_Day']])\n",
    "# Fit the model\n",
    "results = model.fit()\n",
    "# Print summary statistics, including p-values for each coefficient\n",
    "print(results.summary())"
   ]
  },
  {
   "cell_type": "markdown",
   "id": "59a244af-4f51-4cb3-adf1-b515c23d0fb1",
   "metadata": {},
   "source": [
    "<div dir=\"rtl\">  שהשפעה שהמשנה הדמה של השומרון לא נכנס למודל. מאחר ולא הכנסנו את הדרום למודל משמעות הדבר היא שאין הבדל סטטיסטי בין בכמות התאונות בין הדרום לשומרון. "
   ]
  },
  {
   "cell_type": "markdown",
   "id": "2af6cafd-66da-4c2e-860d-146ac3b6667f",
   "metadata": {},
   "source": [
    "<div dir=\"rtl\">  נוציא את השומרון מהמודל ונראה את התוצאה: "
   ]
  },
  {
   "cell_type": "code",
   "execution_count": 9,
   "id": "cd0d8422-2e5f-47a2-9163-f2c33a1d8cca",
   "metadata": {},
   "outputs": [
    {
     "name": "stdout",
     "output_type": "stream",
     "text": [
      "                            OLS Regression Results                            \n",
      "==============================================================================\n",
      "Dep. Variable:              Accidents   R-squared:                       1.000\n",
      "Model:                            OLS   Adj. R-squared:                  1.000\n",
      "Method:                 Least Squares   F-statistic:                 3.108e+07\n",
      "Date:                Thu, 19 Oct 2023   Prob (F-statistic):               0.00\n",
      "Time:                        13:17:04   Log-Likelihood:                -2097.8\n",
      "No. Observations:                 350   AIC:                             4212.\n",
      "Df Residuals:                     342   BIC:                             4243.\n",
      "Df Model:                           7                                         \n",
      "Covariance Type:            nonrobust                                         \n",
      "========================================================================================\n",
      "                           coef    std err          t      P>|t|      [0.025      0.975]\n",
      "----------------------------------------------------------------------------------------\n",
      "Intercept             7953.2650     36.250    219.403      0.000    7881.965    8024.565\n",
      "Trucks                   4.9999      0.000   1.32e+04      0.000       4.999       5.001\n",
      "Bikes                    3.0108      0.009    322.302      0.000       2.992       3.029\n",
      "Buses                    2.0034      0.002    981.083      0.000       1.999       2.007\n",
      "Cars                     1.1999      0.000   6652.674      0.000       1.200       1.200\n",
      "Region_name_Galil    -7690.1049     12.986   -592.188      0.000   -7715.647   -7664.563\n",
      "Region_name_Gush_Dan -2983.4410     13.250   -225.174      0.000   -3009.502   -2957.380\n",
      "Time_Day             -3488.0833     10.591   -329.329      0.000   -3508.916   -3467.251\n",
      "==============================================================================\n",
      "Omnibus:                        0.828   Durbin-Watson:                   1.976\n",
      "Prob(Omnibus):                  0.661   Jarque-Bera (JB):                0.687\n",
      "Skew:                           0.105   Prob(JB):                        0.709\n",
      "Kurtosis:                       3.058   Cond. No.                     1.06e+06\n",
      "==============================================================================\n",
      "\n",
      "Notes:\n",
      "[1] Standard Errors assume that the covariance matrix of the errors is correctly specified.\n",
      "[2] The condition number is large, 1.06e+06. This might indicate that there are\n",
      "strong multicollinearity or other numerical problems.\n"
     ]
    }
   ],
   "source": [
    "model = sm.OLS(data['Accidents'], data.loc[:, [ 'Intercept','Trucks', 'Bikes',  'Buses', 'Cars', 'Region_name_Galil', 'Region_name_Gush_Dan', 'Time_Day']])\n",
    "# Fit the model\n",
    "results = model.fit()\n",
    "# Print summary statistics, including p-values for each coefficient\n",
    "print(results.summary())"
   ]
  },
  {
   "cell_type": "markdown",
   "id": "bedc23b8-020b-43b7-bb54-d2583150e120",
   "metadata": {},
   "source": [
    "<div dir=\"rtl\"> כעת כל המשתנים נכנסנו למודל."
   ]
  },
  {
   "cell_type": "markdown",
   "id": "bab82a36-955b-4b51-a3e7-269e50120014",
   "metadata": {},
   "source": [
    "<div dir=\"rtl\"> המודל הסופי נראה כך: "
   ]
  },
  {
   "cell_type": "markdown",
   "id": "0a0d94ec-8256-4f17-8b10-b64d710fa91b",
   "metadata": {},
   "source": [
    "$$\\hat{Y} = b_0 + b_1*X_1 + b_2*X_2 + + b_4*X_3   + b_5*X_5 + d_1 $$"
   ]
  },
  {
   "cell_type": "code",
   "execution_count": null,
   "id": "593d87f3-44ea-4121-8e30-e41c121cd831",
   "metadata": {},
   "outputs": [],
   "source": []
  },
  {
   "cell_type": "code",
   "execution_count": null,
   "id": "e413348c-886c-4ff6-9f51-4373911058a5",
   "metadata": {},
   "outputs": [],
   "source": []
  },
  {
   "cell_type": "code",
   "execution_count": null,
   "id": "e95a0635-c32f-4d37-bb57-7c15c4a57ba3",
   "metadata": {},
   "outputs": [],
   "source": []
  },
  {
   "cell_type": "code",
   "execution_count": null,
   "id": "ca091d0e-0e38-4562-8b38-0cca385e472a",
   "metadata": {},
   "outputs": [],
   "source": []
  },
  {
   "cell_type": "code",
   "execution_count": null,
   "id": "a53da5a5-65f7-41ec-ab6a-c5f21c33d234",
   "metadata": {},
   "outputs": [],
   "source": []
  },
  {
   "cell_type": "code",
   "execution_count": null,
   "id": "2480116e-432c-452c-9400-d2ba349cb943",
   "metadata": {},
   "outputs": [],
   "source": []
  },
  {
   "cell_type": "code",
   "execution_count": null,
   "id": "3398028d-1b76-4f0d-beec-201299f3c689",
   "metadata": {},
   "outputs": [],
   "source": []
  },
  {
   "cell_type": "code",
   "execution_count": null,
   "id": "50192485-70cb-4a4c-97e9-3049dd742e05",
   "metadata": {},
   "outputs": [],
   "source": []
  },
  {
   "cell_type": "code",
   "execution_count": null,
   "id": "b3c56f27-7f27-461a-9700-4967f875d714",
   "metadata": {},
   "outputs": [],
   "source": []
  },
  {
   "cell_type": "code",
   "execution_count": null,
   "id": "7d743645-f131-4014-8804-094974ce3881",
   "metadata": {},
   "outputs": [],
   "source": []
  },
  {
   "cell_type": "code",
   "execution_count": null,
   "id": "05600858-7066-4869-af53-96a0bac989d8",
   "metadata": {},
   "outputs": [],
   "source": []
  }
 ],
 "metadata": {
  "kernelspec": {
   "display_name": "queueing",
   "language": "python",
   "name": "queueing"
  },
  "language_info": {
   "codemirror_mode": {
    "name": "ipython",
    "version": 3
   },
   "file_extension": ".py",
   "mimetype": "text/x-python",
   "name": "python",
   "nbconvert_exporter": "python",
   "pygments_lexer": "ipython3",
   "version": "3.9.16"
  }
 },
 "nbformat": 4,
 "nbformat_minor": 5
}
