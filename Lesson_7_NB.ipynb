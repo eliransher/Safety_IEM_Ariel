{
 "cells": [
  {
   "cell_type": "code",
   "execution_count": 1,
   "id": "2415bc08-a1fb-4a5e-892a-1491125e4812",
   "metadata": {
    "tags": []
   },
   "outputs": [],
   "source": [
    "import pandas as pd\n",
    "import matplotlib.pyplot as plt\n",
    "import numpy as np\n",
    "import os\n",
    "import statsmodels.api as sm\n",
    "import pickle as pkl"
   ]
  },
  {
   "cell_type": "code",
   "execution_count": 2,
   "id": "c0139ff6-4afd-4151-a015-e87152451c1c",
   "metadata": {
    "tags": []
   },
   "outputs": [
    {
     "name": "stdout",
     "output_type": "stream",
     "text": [
      "                 Generalized Linear Model Regression Results                  \n",
      "==============================================================================\n",
      "Dep. Variable:                      y   No. Observations:                  100\n",
      "Model:                            GLM   Df Residuals:                       97\n",
      "Model Family:        NegativeBinomial   Df Model:                            2\n",
      "Link Function:                    Log   Scale:                          1.0000\n",
      "Method:                          IRLS   Log-Likelihood:                -305.88\n",
      "Date:                Sun, 29 Oct 2023   Deviance:                       11.328\n",
      "Time:                        10:56:22   Pearson chi2:                     11.6\n",
      "No. Iterations:                     4   Pseudo R-squ. (CS):            0.01719\n",
      "Covariance Type:            nonrobust                                         \n",
      "==============================================================================\n",
      "                 coef    std err          z      P>|z|      [0.025      0.975]\n",
      "------------------------------------------------------------------------------\n",
      "const          1.6313      0.298      5.479      0.000       1.048       2.215\n",
      "x1             0.3912      0.380      1.030      0.303      -0.353       1.136\n",
      "x2             0.3299      0.375      0.881      0.378      -0.404       1.064\n",
      "==============================================================================\n"
     ]
    },
    {
     "name": "stderr",
     "output_type": "stream",
     "text": [
      "C:\\Users\\user\\anaconda3\\envs\\queueing\\lib\\site-packages\\statsmodels\\genmod\\families\\family.py:1367: ValueWarning: Negative binomial dispersion parameter alpha not set. Using default value alpha=1.0.\n",
      "  warnings.warn(\"Negative binomial dispersion parameter alpha not \"\n"
     ]
    }
   ],
   "source": [
    "# Generate synthetic data\n",
    "np.random.seed(0)\n",
    "X = np.random.rand(100, 2)  # Two independent variables\n",
    "y = np.random.poisson(5 + 2 * X[:, 0] + 3 * X[:, 1])  # Dependent variable (Poisson distributed)\n",
    "\n",
    "# Add a constant term for the intercept\n",
    "X = sm.add_constant(X)\n",
    "\n",
    "# Fit a negative binomial regression model\n",
    "model = sm.GLM(y, X, family=sm.families.NegativeBinomial())\n",
    "results = model.fit()\n",
    "\n",
    "# Print the summary of the regression results\n",
    "print(results.summary())"
   ]
  },
  {
   "cell_type": "code",
   "execution_count": 3,
   "id": "23f2f672-bee8-4bb5-94fd-85fae9a609b1",
   "metadata": {
    "tags": []
   },
   "outputs": [
    {
     "data": {
      "text/plain": [
       "1.0"
      ]
     },
     "execution_count": 3,
     "metadata": {},
     "output_type": "execute_result"
    }
   ],
   "source": [
    "results.scale"
   ]
  },
  {
   "cell_type": "code",
   "execution_count": 5,
   "id": "3e59a789-f80a-4c6c-a994-638510652c0e",
   "metadata": {
    "tags": []
   },
   "outputs": [],
   "source": [
    "## The path to the file\n",
    "path = r'..\\Data'\n",
    "file_name = 'From Ezra Haur chapter 9.csv'"
   ]
  },
  {
   "cell_type": "code",
   "execution_count": 6,
   "id": "97b49523-1aa3-4b05-93ab-ad997c149d7c",
   "metadata": {
    "tags": []
   },
   "outputs": [
    {
     "data": {
      "text/html": [
       "<div>\n",
       "<style scoped>\n",
       "    .dataframe tbody tr th:only-of-type {\n",
       "        vertical-align: middle;\n",
       "    }\n",
       "\n",
       "    .dataframe tbody tr th {\n",
       "        vertical-align: top;\n",
       "    }\n",
       "\n",
       "    .dataframe thead th {\n",
       "        text-align: right;\n",
       "    }\n",
       "</style>\n",
       "<table border=\"1\" class=\"dataframe\">\n",
       "  <thead>\n",
       "    <tr style=\"text-align: right;\">\n",
       "      <th></th>\n",
       "      <th>AADT_1000</th>\n",
       "      <th>Accidents</th>\n",
       "      <th>Miles</th>\n",
       "      <th>intercept</th>\n",
       "      <th>log_AADT_1000</th>\n",
       "      <th>Accidents_per_mile</th>\n",
       "    </tr>\n",
       "  </thead>\n",
       "  <tbody>\n",
       "    <tr>\n",
       "      <th>0</th>\n",
       "      <td>1000.0</td>\n",
       "      <td>1.464625</td>\n",
       "      <td>1.601711</td>\n",
       "      <td>1.0</td>\n",
       "      <td>6.907755</td>\n",
       "      <td>0.914413</td>\n",
       "    </tr>\n",
       "    <tr>\n",
       "      <th>1</th>\n",
       "      <td>2000.0</td>\n",
       "      <td>2.433033</td>\n",
       "      <td>1.254876</td>\n",
       "      <td>1.0</td>\n",
       "      <td>7.600902</td>\n",
       "      <td>1.938864</td>\n",
       "    </tr>\n",
       "    <tr>\n",
       "      <th>2</th>\n",
       "      <td>3000.0</td>\n",
       "      <td>4.171039</td>\n",
       "      <td>1.024680</td>\n",
       "      <td>1.0</td>\n",
       "      <td>8.006368</td>\n",
       "      <td>4.070577</td>\n",
       "    </tr>\n",
       "    <tr>\n",
       "      <th>3</th>\n",
       "      <td>4000.0</td>\n",
       "      <td>6.393822</td>\n",
       "      <td>0.915792</td>\n",
       "      <td>1.0</td>\n",
       "      <td>8.294050</td>\n",
       "      <td>6.981745</td>\n",
       "    </tr>\n",
       "    <tr>\n",
       "      <th>4</th>\n",
       "      <td>5000.0</td>\n",
       "      <td>6.967914</td>\n",
       "      <td>0.811551</td>\n",
       "      <td>1.0</td>\n",
       "      <td>8.517193</td>\n",
       "      <td>8.585925</td>\n",
       "    </tr>\n",
       "  </tbody>\n",
       "</table>\n",
       "</div>"
      ],
      "text/plain": [
       "   AADT_1000  Accidents     Miles  intercept  log_AADT_1000  \\\n",
       "0     1000.0   1.464625  1.601711        1.0       6.907755   \n",
       "1     2000.0   2.433033  1.254876        1.0       7.600902   \n",
       "2     3000.0   4.171039  1.024680        1.0       8.006368   \n",
       "3     4000.0   6.393822  0.915792        1.0       8.294050   \n",
       "4     5000.0   6.967914  0.811551        1.0       8.517193   \n",
       "\n",
       "   Accidents_per_mile  \n",
       "0            0.914413  \n",
       "1            1.938864  \n",
       "2            4.070577  \n",
       "3            6.981745  \n",
       "4            8.585925  "
      ]
     },
     "execution_count": 6,
     "metadata": {},
     "output_type": "execute_result"
    }
   ],
   "source": [
    "## Extracting the data from the csv file into pandas\n",
    "data = pd.read_csv(os.path.join(path, file_name))\n",
    "data['AADT_1000'] = data['AADT'].round(-3) + 1000 \n",
    "df = pd.DataFrame(data.groupby('AADT_1000').mean())\n",
    "new_data = pd.DataFrame([])\n",
    "new_data['AADT_1000'] = np.array(data['AADT_1000'].unique())\n",
    "new_data['Accidents'] = np.array(df['Accidents '])\n",
    "new_data['Miles'] = np.array(df['Miles'])\n",
    "new_data['intercept'] = np.ones(new_data.shape[0])\n",
    "new_data['log_AADT_1000'] = np.log(np.array(data['AADT_1000'].unique()))\n",
    "new_data['Accidents_per_mile'] = new_data['Accidents']/new_data['Miles'] \n",
    "new_data.head()"
   ]
  },
  {
   "cell_type": "code",
   "execution_count": 32,
   "id": "f0547a37-77c9-4e0a-9da1-4012302ecc87",
   "metadata": {
    "tags": []
   },
   "outputs": [
    {
     "data": {
      "text/plain": [
       "2.000249999999999"
      ]
     },
     "execution_count": 32,
     "metadata": {},
     "output_type": "execute_result"
    }
   ],
   "source": [
    "((11.7-10.125)/2)*2.54"
   ]
  },
  {
   "cell_type": "code",
   "execution_count": 21,
   "id": "50524669-2a3e-4ce8-a828-b2231c9391e2",
   "metadata": {
    "tags": []
   },
   "outputs": [
    {
     "data": {
      "text/plain": [
       "2.006600000000001"
      ]
     },
     "execution_count": 21,
     "metadata": {},
     "output_type": "execute_result"
    }
   ],
   "source": [
    "((8.3-6.72)/2)*2.54"
   ]
  },
  {
   "cell_type": "code",
   "execution_count": 17,
   "id": "e21e6715-2691-4e78-90a3-238cc78763d1",
   "metadata": {
    "tags": []
   },
   "outputs": [
    {
     "data": {
      "text/plain": [
       "1.905"
      ]
     },
     "execution_count": 17,
     "metadata": {},
     "output_type": "execute_result"
    }
   ],
   "source": [
    "(1.5/2)*2.54"
   ]
  },
  {
   "cell_type": "code",
   "execution_count": 14,
   "id": "2a762ea3-10d6-4561-97e5-0842ad6ebea0",
   "metadata": {
    "tags": []
   },
   "outputs": [
    {
     "name": "stdout",
     "output_type": "stream",
     "text": [
      "                 Generalized Linear Model Regression Results                  \n",
      "==============================================================================\n",
      "Dep. Variable:              Accidents   No. Observations:                   18\n",
      "Model:                            GLM   Df Residuals:                       16\n",
      "Model Family:        NegativeBinomial   Df Model:                            1\n",
      "Link Function:                    Log   Scale:                          1.0000\n",
      "Method:                          IRLS   Log-Likelihood:                -72.155\n",
      "Date:                Mon, 30 Oct 2023   Deviance:                       1.0820\n",
      "Time:                        14:50:14   Pearson chi2:                    0.837\n",
      "No. Iterations:                     9   Pseudo R-squ. (CS):             0.1764\n",
      "Covariance Type:            nonrobust                                         \n",
      "==============================================================================\n",
      "                 coef    std err          z      P>|z|      [0.025      0.975]\n",
      "------------------------------------------------------------------------------\n",
      "intercept      1.1013      0.851      1.294      0.196      -0.567       2.769\n",
      "AADT_1000      0.0002    7.6e-05      2.208      0.027    1.88e-05       0.000\n",
      "==============================================================================\n"
     ]
    }
   ],
   "source": [
    "model_poisson1 = sm.GLM(new_data['Accidents'], new_data[['intercept', 'AADT_1000']], family=sm.families.NegativeBinomial(alpha = 3.0), offset=np.log(new_data['Miles']))  # Poisson regression model\n",
    "results_poisson1 = model_poisson1.fit()\n",
    "print(results_poisson1.summary())"
   ]
  },
  {
   "cell_type": "code",
   "execution_count": 8,
   "id": "f0ca1fba-5d04-4594-9249-20265e0fd547",
   "metadata": {
    "tags": []
   },
   "outputs": [
    {
     "data": {
      "text/plain": [
       "1.0"
      ]
     },
     "execution_count": 8,
     "metadata": {},
     "output_type": "execute_result"
    }
   ],
   "source": [
    "results_poisson1.scale"
   ]
  },
  {
   "cell_type": "code",
   "execution_count": 9,
   "id": "19236ffe-f808-46fc-8522-531cc51d9d62",
   "metadata": {
    "tags": []
   },
   "outputs": [
    {
     "data": {
      "text/plain": [
       "2.9459547053158475"
      ]
     },
     "execution_count": 9,
     "metadata": {},
     "output_type": "execute_result"
    }
   ],
   "source": [
    "results_poisson1.deviance"
   ]
  },
  {
   "cell_type": "code",
   "execution_count": 10,
   "id": "5217d7ce-fc25-4071-b9e6-be69bf5be2d5",
   "metadata": {
    "tags": []
   },
   "outputs": [
    {
     "data": {
      "text/plain": [
       "16"
      ]
     },
     "execution_count": 10,
     "metadata": {},
     "output_type": "execute_result"
    }
   ],
   "source": [
    "results_poisson1.df_resid"
   ]
  },
  {
   "cell_type": "code",
   "execution_count": null,
   "id": "c2c727ec-646b-45e5-9f30-b5cdaa630763",
   "metadata": {},
   "outputs": [],
   "source": []
  },
  {
   "cell_type": "code",
   "execution_count": null,
   "id": "ea204f5e-5010-4b2a-b662-96164ebb5ad0",
   "metadata": {},
   "outputs": [],
   "source": []
  }
 ],
 "metadata": {
  "kernelspec": {
   "display_name": "queueing",
   "language": "python",
   "name": "queueing"
  },
  "language_info": {
   "codemirror_mode": {
    "name": "ipython",
    "version": 3
   },
   "file_extension": ".py",
   "mimetype": "text/x-python",
   "name": "python",
   "nbconvert_exporter": "python",
   "pygments_lexer": "ipython3",
   "version": "3.9.16"
  }
 },
 "nbformat": 4,
 "nbformat_minor": 5
}
