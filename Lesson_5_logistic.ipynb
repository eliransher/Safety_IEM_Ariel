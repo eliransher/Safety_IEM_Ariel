{
 "cells": [
  {
   "cell_type": "code",
   "execution_count": 14,
   "id": "c8afba13-93f2-4270-bc04-1f21c5bf5999",
   "metadata": {
    "tags": []
   },
   "outputs": [],
   "source": [
    "import pandas as pd\n",
    "import matplotlib.pyplot as plt\n",
    "import numpy as np\n",
    "import os\n",
    "import statsmodels.api as sm\n",
    "import pickle as pkl"
   ]
  },
  {
   "cell_type": "markdown",
   "id": "e89ea281-ae3e-4bfd-a049-62263b55fbab",
   "metadata": {},
   "source": [
    "<div dir=\"rtl\">\n",
    "    \n",
    "## אסון הטיטאניק"
   ]
  },
  {
   "cell_type": "markdown",
   "id": "1b79a251-08ef-4b35-b92b-51a8ca1c5059",
   "metadata": {},
   "source": [
    "<div dir=\"rtl\">  אוניית הדואר המלכותי טיטניק (באנגלית: RMS Titanic) הייתה אוניית נוסעים בריטית, הגדולה והמפוארת בעולם בשעתה ומכאן גם שמה (\"עצום\", \"ענק\"). אף על פי שסברו כי אוניית ענק שכמותה לעולם לא תטבע, טבעה ה\"טיטניק\" בהפלגת הבכורה שלה ב־15 באפריל 1912 לאחר שהתנגשה בקרחון. באסון נספו 1,517 בני אדם, בהם מפורסמים רבים, ורק 712 ניצלו. "
   ]
  },
  {
   "cell_type": "markdown",
   "id": "bc0897e7-2da6-4c26-90bd-71ca7469dafe",
   "metadata": {},
   "source": [
    "<div dir=\"rtl\"> להלן dataframe בשם data. יש בdataframe 12 עמודות. אנחנו כרגע נתמקד ב-3 עמודות:\n",
    "<br/>\n",
    "intercept - עמודה של ה-1 עבור החותך\n",
    "<br/>\n",
    "sex - מגדר של הנוסע\n",
    "<br/>\n",
    "survived - האם שרד או לא. 1 אם שרד 0 אם לאו."
   ]
  },
  {
   "cell_type": "code",
   "execution_count": 2,
   "id": "c320c6ff-bb22-4bf6-87b4-d5434c19c88c",
   "metadata": {
    "tags": []
   },
   "outputs": [],
   "source": [
    "## The path to the file\n",
    "path = r'..\\Data'\n",
    "file_name = 'titanic.csv'"
   ]
  },
  {
   "cell_type": "code",
   "execution_count": 3,
   "id": "dacd8343-b70a-4ee1-ba69-3302e3619489",
   "metadata": {
    "tags": []
   },
   "outputs": [
    {
     "data": {
      "text/html": [
       "<div>\n",
       "<style scoped>\n",
       "    .dataframe tbody tr th:only-of-type {\n",
       "        vertical-align: middle;\n",
       "    }\n",
       "\n",
       "    .dataframe tbody tr th {\n",
       "        vertical-align: top;\n",
       "    }\n",
       "\n",
       "    .dataframe thead th {\n",
       "        text-align: right;\n",
       "    }\n",
       "</style>\n",
       "<table border=\"1\" class=\"dataframe\">\n",
       "  <thead>\n",
       "    <tr style=\"text-align: right;\">\n",
       "      <th></th>\n",
       "      <th>row.names</th>\n",
       "      <th>pclass</th>\n",
       "      <th>survived</th>\n",
       "      <th>name</th>\n",
       "      <th>age</th>\n",
       "      <th>embarked</th>\n",
       "      <th>home.dest</th>\n",
       "      <th>room</th>\n",
       "      <th>ticket</th>\n",
       "      <th>boat</th>\n",
       "      <th>sex</th>\n",
       "      <th>intercept</th>\n",
       "    </tr>\n",
       "  </thead>\n",
       "  <tbody>\n",
       "    <tr>\n",
       "      <th>0</th>\n",
       "      <td>1</td>\n",
       "      <td>1st</td>\n",
       "      <td>1</td>\n",
       "      <td>Allen, Miss Elisabeth Walton</td>\n",
       "      <td>29.0000</td>\n",
       "      <td>Southampton</td>\n",
       "      <td>St Louis, MO</td>\n",
       "      <td>B-5</td>\n",
       "      <td>24160 L221</td>\n",
       "      <td>2</td>\n",
       "      <td>female</td>\n",
       "      <td>1.0</td>\n",
       "    </tr>\n",
       "    <tr>\n",
       "      <th>1</th>\n",
       "      <td>2</td>\n",
       "      <td>1st</td>\n",
       "      <td>0</td>\n",
       "      <td>Allison, Miss Helen Loraine</td>\n",
       "      <td>2.0000</td>\n",
       "      <td>Southampton</td>\n",
       "      <td>Montreal, PQ / Chesterville, ON</td>\n",
       "      <td>C26</td>\n",
       "      <td>NaN</td>\n",
       "      <td>NaN</td>\n",
       "      <td>female</td>\n",
       "      <td>1.0</td>\n",
       "    </tr>\n",
       "    <tr>\n",
       "      <th>2</th>\n",
       "      <td>3</td>\n",
       "      <td>1st</td>\n",
       "      <td>0</td>\n",
       "      <td>Allison, Mr Hudson Joshua Creighton</td>\n",
       "      <td>30.0000</td>\n",
       "      <td>Southampton</td>\n",
       "      <td>Montreal, PQ / Chesterville, ON</td>\n",
       "      <td>C26</td>\n",
       "      <td>NaN</td>\n",
       "      <td>(135)</td>\n",
       "      <td>male</td>\n",
       "      <td>1.0</td>\n",
       "    </tr>\n",
       "    <tr>\n",
       "      <th>3</th>\n",
       "      <td>4</td>\n",
       "      <td>1st</td>\n",
       "      <td>0</td>\n",
       "      <td>Allison, Mrs Hudson J.C. (Bessie Waldo Daniels)</td>\n",
       "      <td>25.0000</td>\n",
       "      <td>Southampton</td>\n",
       "      <td>Montreal, PQ / Chesterville, ON</td>\n",
       "      <td>C26</td>\n",
       "      <td>NaN</td>\n",
       "      <td>NaN</td>\n",
       "      <td>female</td>\n",
       "      <td>1.0</td>\n",
       "    </tr>\n",
       "    <tr>\n",
       "      <th>4</th>\n",
       "      <td>5</td>\n",
       "      <td>1st</td>\n",
       "      <td>1</td>\n",
       "      <td>Allison, Master Hudson Trevor</td>\n",
       "      <td>0.9167</td>\n",
       "      <td>Southampton</td>\n",
       "      <td>Montreal, PQ / Chesterville, ON</td>\n",
       "      <td>C22</td>\n",
       "      <td>NaN</td>\n",
       "      <td>11</td>\n",
       "      <td>male</td>\n",
       "      <td>1.0</td>\n",
       "    </tr>\n",
       "    <tr>\n",
       "      <th>5</th>\n",
       "      <td>6</td>\n",
       "      <td>1st</td>\n",
       "      <td>1</td>\n",
       "      <td>Anderson, Mr Harry</td>\n",
       "      <td>47.0000</td>\n",
       "      <td>Southampton</td>\n",
       "      <td>New York, NY</td>\n",
       "      <td>E-12</td>\n",
       "      <td>NaN</td>\n",
       "      <td>3</td>\n",
       "      <td>male</td>\n",
       "      <td>1.0</td>\n",
       "    </tr>\n",
       "    <tr>\n",
       "      <th>6</th>\n",
       "      <td>7</td>\n",
       "      <td>1st</td>\n",
       "      <td>1</td>\n",
       "      <td>Andrews, Miss Kornelia Theodosia</td>\n",
       "      <td>63.0000</td>\n",
       "      <td>Southampton</td>\n",
       "      <td>Hudson, NY</td>\n",
       "      <td>D-7</td>\n",
       "      <td>13502 L77</td>\n",
       "      <td>10</td>\n",
       "      <td>female</td>\n",
       "      <td>1.0</td>\n",
       "    </tr>\n",
       "    <tr>\n",
       "      <th>7</th>\n",
       "      <td>8</td>\n",
       "      <td>1st</td>\n",
       "      <td>0</td>\n",
       "      <td>Andrews, Mr Thomas, jr</td>\n",
       "      <td>39.0000</td>\n",
       "      <td>Southampton</td>\n",
       "      <td>Belfast, NI</td>\n",
       "      <td>A-36</td>\n",
       "      <td>NaN</td>\n",
       "      <td>NaN</td>\n",
       "      <td>male</td>\n",
       "      <td>1.0</td>\n",
       "    </tr>\n",
       "    <tr>\n",
       "      <th>8</th>\n",
       "      <td>9</td>\n",
       "      <td>1st</td>\n",
       "      <td>1</td>\n",
       "      <td>Appleton, Mrs Edward Dale (Charlotte Lamson)</td>\n",
       "      <td>58.0000</td>\n",
       "      <td>Southampton</td>\n",
       "      <td>Bayside, Queens, NY</td>\n",
       "      <td>C-101</td>\n",
       "      <td>NaN</td>\n",
       "      <td>2</td>\n",
       "      <td>female</td>\n",
       "      <td>1.0</td>\n",
       "    </tr>\n",
       "    <tr>\n",
       "      <th>9</th>\n",
       "      <td>10</td>\n",
       "      <td>1st</td>\n",
       "      <td>0</td>\n",
       "      <td>Artagaveytia, Mr Ramon</td>\n",
       "      <td>71.0000</td>\n",
       "      <td>Cherbourg</td>\n",
       "      <td>Montevideo, Uruguay</td>\n",
       "      <td>NaN</td>\n",
       "      <td>NaN</td>\n",
       "      <td>(22)</td>\n",
       "      <td>male</td>\n",
       "      <td>1.0</td>\n",
       "    </tr>\n",
       "  </tbody>\n",
       "</table>\n",
       "</div>"
      ],
      "text/plain": [
       "   row.names pclass  survived  \\\n",
       "0          1    1st         1   \n",
       "1          2    1st         0   \n",
       "2          3    1st         0   \n",
       "3          4    1st         0   \n",
       "4          5    1st         1   \n",
       "5          6    1st         1   \n",
       "6          7    1st         1   \n",
       "7          8    1st         0   \n",
       "8          9    1st         1   \n",
       "9         10    1st         0   \n",
       "\n",
       "                                              name      age     embarked  \\\n",
       "0                     Allen, Miss Elisabeth Walton  29.0000  Southampton   \n",
       "1                      Allison, Miss Helen Loraine   2.0000  Southampton   \n",
       "2              Allison, Mr Hudson Joshua Creighton  30.0000  Southampton   \n",
       "3  Allison, Mrs Hudson J.C. (Bessie Waldo Daniels)  25.0000  Southampton   \n",
       "4                    Allison, Master Hudson Trevor   0.9167  Southampton   \n",
       "5                               Anderson, Mr Harry  47.0000  Southampton   \n",
       "6                 Andrews, Miss Kornelia Theodosia  63.0000  Southampton   \n",
       "7                           Andrews, Mr Thomas, jr  39.0000  Southampton   \n",
       "8     Appleton, Mrs Edward Dale (Charlotte Lamson)  58.0000  Southampton   \n",
       "9                           Artagaveytia, Mr Ramon  71.0000    Cherbourg   \n",
       "\n",
       "                         home.dest   room      ticket   boat     sex  \\\n",
       "0                     St Louis, MO    B-5  24160 L221      2  female   \n",
       "1  Montreal, PQ / Chesterville, ON    C26         NaN    NaN  female   \n",
       "2  Montreal, PQ / Chesterville, ON    C26         NaN  (135)    male   \n",
       "3  Montreal, PQ / Chesterville, ON    C26         NaN    NaN  female   \n",
       "4  Montreal, PQ / Chesterville, ON    C22         NaN     11    male   \n",
       "5                     New York, NY   E-12         NaN      3    male   \n",
       "6                       Hudson, NY    D-7   13502 L77     10  female   \n",
       "7                      Belfast, NI   A-36         NaN    NaN    male   \n",
       "8              Bayside, Queens, NY  C-101         NaN      2  female   \n",
       "9              Montevideo, Uruguay    NaN         NaN   (22)    male   \n",
       "\n",
       "   intercept  \n",
       "0        1.0  \n",
       "1        1.0  \n",
       "2        1.0  \n",
       "3        1.0  \n",
       "4        1.0  \n",
       "5        1.0  \n",
       "6        1.0  \n",
       "7        1.0  \n",
       "8        1.0  \n",
       "9        1.0  "
      ]
     },
     "execution_count": 3,
     "metadata": {},
     "output_type": "execute_result"
    }
   ],
   "source": [
    "## Extracting the data from the csv file into pandas\n",
    "data = pd.read_csv(os.path.join(path, file_name))\n",
    "data['intercept'] = np.ones(data.shape[0])\n",
    "data.head(10)"
   ]
  },
  {
   "cell_type": "markdown",
   "id": "9fc98ea2-d584-486c-970b-1aa21d72dde0",
   "metadata": {},
   "source": [
    " <div dir=\"rtl\"> נרצה לעשות ניתוח על סיכויי הישרדות של גברים ונשים. במקרה זה המשתנה המסביר שלנו הוא משתנה קטגרויאלי. העמודה שמציינת את המגדר היא sex. במקום שיהיה male ו-female נמיר את זה ל-0 ו -1."
   ]
  },
  {
   "cell_type": "code",
   "execution_count": 4,
   "id": "c4b0b9ec-bdae-4300-a3f0-c17d53a4508f",
   "metadata": {
    "tags": []
   },
   "outputs": [],
   "source": [
    "data['gender_binary'] = data['sex'].apply(lambda x: 1 if x=='female' else 0)"
   ]
  },
  {
   "cell_type": "code",
   "execution_count": 5,
   "id": "b4cb0947-69bb-42b1-a5b6-accd91df12d1",
   "metadata": {
    "tags": []
   },
   "outputs": [
    {
     "data": {
      "text/html": [
       "<div>\n",
       "<style scoped>\n",
       "    .dataframe tbody tr th:only-of-type {\n",
       "        vertical-align: middle;\n",
       "    }\n",
       "\n",
       "    .dataframe tbody tr th {\n",
       "        vertical-align: top;\n",
       "    }\n",
       "\n",
       "    .dataframe thead th {\n",
       "        text-align: right;\n",
       "    }\n",
       "</style>\n",
       "<table border=\"1\" class=\"dataframe\">\n",
       "  <thead>\n",
       "    <tr style=\"text-align: right;\">\n",
       "      <th></th>\n",
       "      <th>row.names</th>\n",
       "      <th>pclass</th>\n",
       "      <th>survived</th>\n",
       "      <th>name</th>\n",
       "      <th>age</th>\n",
       "      <th>embarked</th>\n",
       "      <th>home.dest</th>\n",
       "      <th>room</th>\n",
       "      <th>ticket</th>\n",
       "      <th>boat</th>\n",
       "      <th>sex</th>\n",
       "      <th>intercept</th>\n",
       "      <th>gender_binary</th>\n",
       "    </tr>\n",
       "  </thead>\n",
       "  <tbody>\n",
       "    <tr>\n",
       "      <th>0</th>\n",
       "      <td>1</td>\n",
       "      <td>1st</td>\n",
       "      <td>1</td>\n",
       "      <td>Allen, Miss Elisabeth Walton</td>\n",
       "      <td>29.0000</td>\n",
       "      <td>Southampton</td>\n",
       "      <td>St Louis, MO</td>\n",
       "      <td>B-5</td>\n",
       "      <td>24160 L221</td>\n",
       "      <td>2</td>\n",
       "      <td>female</td>\n",
       "      <td>1.0</td>\n",
       "      <td>1</td>\n",
       "    </tr>\n",
       "    <tr>\n",
       "      <th>1</th>\n",
       "      <td>2</td>\n",
       "      <td>1st</td>\n",
       "      <td>0</td>\n",
       "      <td>Allison, Miss Helen Loraine</td>\n",
       "      <td>2.0000</td>\n",
       "      <td>Southampton</td>\n",
       "      <td>Montreal, PQ / Chesterville, ON</td>\n",
       "      <td>C26</td>\n",
       "      <td>NaN</td>\n",
       "      <td>NaN</td>\n",
       "      <td>female</td>\n",
       "      <td>1.0</td>\n",
       "      <td>1</td>\n",
       "    </tr>\n",
       "    <tr>\n",
       "      <th>2</th>\n",
       "      <td>3</td>\n",
       "      <td>1st</td>\n",
       "      <td>0</td>\n",
       "      <td>Allison, Mr Hudson Joshua Creighton</td>\n",
       "      <td>30.0000</td>\n",
       "      <td>Southampton</td>\n",
       "      <td>Montreal, PQ / Chesterville, ON</td>\n",
       "      <td>C26</td>\n",
       "      <td>NaN</td>\n",
       "      <td>(135)</td>\n",
       "      <td>male</td>\n",
       "      <td>1.0</td>\n",
       "      <td>0</td>\n",
       "    </tr>\n",
       "    <tr>\n",
       "      <th>3</th>\n",
       "      <td>4</td>\n",
       "      <td>1st</td>\n",
       "      <td>0</td>\n",
       "      <td>Allison, Mrs Hudson J.C. (Bessie Waldo Daniels)</td>\n",
       "      <td>25.0000</td>\n",
       "      <td>Southampton</td>\n",
       "      <td>Montreal, PQ / Chesterville, ON</td>\n",
       "      <td>C26</td>\n",
       "      <td>NaN</td>\n",
       "      <td>NaN</td>\n",
       "      <td>female</td>\n",
       "      <td>1.0</td>\n",
       "      <td>1</td>\n",
       "    </tr>\n",
       "    <tr>\n",
       "      <th>4</th>\n",
       "      <td>5</td>\n",
       "      <td>1st</td>\n",
       "      <td>1</td>\n",
       "      <td>Allison, Master Hudson Trevor</td>\n",
       "      <td>0.9167</td>\n",
       "      <td>Southampton</td>\n",
       "      <td>Montreal, PQ / Chesterville, ON</td>\n",
       "      <td>C22</td>\n",
       "      <td>NaN</td>\n",
       "      <td>11</td>\n",
       "      <td>male</td>\n",
       "      <td>1.0</td>\n",
       "      <td>0</td>\n",
       "    </tr>\n",
       "  </tbody>\n",
       "</table>\n",
       "</div>"
      ],
      "text/plain": [
       "   row.names pclass  survived  \\\n",
       "0          1    1st         1   \n",
       "1          2    1st         0   \n",
       "2          3    1st         0   \n",
       "3          4    1st         0   \n",
       "4          5    1st         1   \n",
       "\n",
       "                                              name      age     embarked  \\\n",
       "0                     Allen, Miss Elisabeth Walton  29.0000  Southampton   \n",
       "1                      Allison, Miss Helen Loraine   2.0000  Southampton   \n",
       "2              Allison, Mr Hudson Joshua Creighton  30.0000  Southampton   \n",
       "3  Allison, Mrs Hudson J.C. (Bessie Waldo Daniels)  25.0000  Southampton   \n",
       "4                    Allison, Master Hudson Trevor   0.9167  Southampton   \n",
       "\n",
       "                         home.dest room      ticket   boat     sex  intercept  \\\n",
       "0                     St Louis, MO  B-5  24160 L221      2  female        1.0   \n",
       "1  Montreal, PQ / Chesterville, ON  C26         NaN    NaN  female        1.0   \n",
       "2  Montreal, PQ / Chesterville, ON  C26         NaN  (135)    male        1.0   \n",
       "3  Montreal, PQ / Chesterville, ON  C26         NaN    NaN  female        1.0   \n",
       "4  Montreal, PQ / Chesterville, ON  C22         NaN     11    male        1.0   \n",
       "\n",
       "   gender_binary  \n",
       "0              1  \n",
       "1              1  \n",
       "2              0  \n",
       "3              1  \n",
       "4              0  "
      ]
     },
     "execution_count": 5,
     "metadata": {},
     "output_type": "execute_result"
    }
   ],
   "source": [
    "data.head()"
   ]
  },
  {
   "cell_type": "markdown",
   "id": "53fb9f94-285c-40e2-9ae0-09d85401e9c1",
   "metadata": {},
   "source": [
    "<div dir=\"rtl\"> לפני שנעשה ניתוח של רגרסיה לוגיסטית נעשה ניתוח ויזואלי של הנתונים."
   ]
  },
  {
   "cell_type": "code",
   "execution_count": 6,
   "id": "325d7a74-a1ee-42ac-89c2-0a331f5959ac",
   "metadata": {
    "tags": []
   },
   "outputs": [],
   "source": [
    "female_survived = data.loc[(data['gender_binary']==1)&(data['survived']==1),:].shape[0]\n",
    "female_not_survived = data.loc[(data['gender_binary']==1)&(data['survived']==0),:].shape[0]\n",
    "male_survived = data.loc[(data['gender_binary']==0)&(data['survived']==1),:].shape[0]\n",
    "male_not_survived = data.loc[(data['gender_binary']==0)&(data['survived']==0),:].shape[0]\n",
    "\n"
   ]
  },
  {
   "cell_type": "code",
   "execution_count": 7,
   "id": "684e13a9-8bc8-440c-8738-6b89f0adae27",
   "metadata": {
    "tags": []
   },
   "outputs": [
    {
     "data": {
      "image/png": "[encoded data removed]",
      "text/plain": [
       "<Figure size 640x480 with 1 Axes>"
      ]
     },
     "metadata": {},
     "output_type": "display_data"
    }
   ],
   "source": [
    "gender = ('female', 'male')\n",
    "survival_counts = {\n",
    "    'survived': np.array([female_survived, male_survived]),\n",
    "    'not survived': np.array([female_not_survived, male_not_survived]),\n",
    "}\n",
    "width = 0.6  # the width of the bars: can also be len(x) sequence\n",
    "\n",
    "\n",
    "fig, ax = plt.subplots()\n",
    "bottom = np.zeros(2)\n",
    "\n",
    "for surv, surv_count in survival_counts.items():\n",
    "    p = ax.bar(gender, surv_count, width, label=surv, bottom=bottom)\n",
    "    bottom += surv_count\n",
    "\n",
    "    ax.bar_label(p, label_type='center', fontsize= 20)\n",
    "\n",
    "ax.set_title('Number of survivals by gender', fontsize = 20)\n",
    "ax.legend(fontsize= 15)\n",
    "\n",
    "plt.show()"
   ]
  },
  {
   "cell_type": "code",
   "execution_count": 8,
   "id": "15795990-5ce0-4456-832d-5a79610bbf97",
   "metadata": {
    "tags": []
   },
   "outputs": [],
   "source": [
    "survival_rate_female = female_survived/(female_survived+female_not_survived)\n",
    "survival_rate_male = male_survived/(male_survived+male_not_survived)"
   ]
  },
  {
   "cell_type": "code",
   "execution_count": 9,
   "id": "6693f881-13da-4c68-89a4-360ec8de3386",
   "metadata": {},
   "outputs": [
    {
     "data": {
      "image/png": "[encoded data removed]",
      "text/plain": [
       "<Figure size 640x480 with 1 Axes>"
      ]
     },
     "metadata": {},
     "output_type": "display_data"
    }
   ],
   "source": [
    "fig, ax = plt.subplots()\n",
    "\n",
    "fruits = ['female', 'male']\n",
    "counts = [survival_rate_female, survival_rate_male]\n",
    "\n",
    "bar_labels = ['female', 'male']\n",
    "bar_colors = ['tab:red', 'tab:blue']\n",
    "\n",
    "ax.bar(fruits, counts, label=bar_labels, color=bar_colors)\n",
    "ax.set_ylabel('Survival percentage', fontsize = 16)\n",
    "ax.set_title('Survival percentage by geneder', fontsize = 20)\n",
    "ax.legend()\n",
    "\n",
    "plt.show()"
   ]
  },
  {
   "cell_type": "markdown",
   "id": "6efe45d6-0bd6-41cf-a50d-8f63c73f6139",
   "metadata": {},
   "source": [
    " <div dir=\"rtl\"> לפי הגרפים למעלה נראה כי שיעור השורדות גדול משיעור השורדים. זאת ועוד, אפילו שמספר הגברים שהיו על הספינה גדול משמעותית ממספר הנשים, מספר הנשים ששרדו היה גדול פי 2 ממספר הגברים ששרדו."
   ]
  },
  {
   "cell_type": "markdown",
   "id": "dfdca29d-329b-48a2-b461-eaf4a590e139",
   "metadata": {},
   "source": [
    " <div dir=\"rtl\"> כעת, נעבור לניתוח של רגרסיה לוגיסטית: \n",
    "כאשר הlogit של המשוואה שלנו היא:\n",
    "    \n",
    "$$ Logit(p) = intercept + b1*gender $$"
   ]
  },
  {
   "cell_type": "code",
   "execution_count": 15,
   "id": "534f33f1-28e0-457e-a44b-56d5c834ffc0",
   "metadata": {
    "tags": []
   },
   "outputs": [
    {
     "name": "stdout",
     "output_type": "stream",
     "text": [
      "Optimization terminated successfully.\n",
      "         Current function value: 0.517411\n",
      "         Iterations 5\n",
      "                           Logit Regression Results                           \n",
      "==============================================================================\n",
      "Dep. Variable:               survived   No. Observations:                 1313\n",
      "Model:                          Logit   Df Residuals:                     1311\n",
      "Method:                           MLE   Df Model:                            1\n",
      "Date:                Tue, 24 Oct 2023   Pseudo R-squ.:                  0.1945\n",
      "Time:                        09:47:18   Log-Likelihood:                -679.36\n",
      "converged:                       True   LL-Null:                       -843.38\n",
      "Covariance Type:            nonrobust   LLR p-value:                 2.572e-73\n",
      "=================================================================================\n",
      "                    coef    std err          z      P>|z|      [0.025      0.975]\n",
      "---------------------------------------------------------------------------------\n",
      "intercept        -1.6066      0.092    -17.473      0.000      -1.787      -1.426\n",
      "gender_binary     2.2836      0.135     16.963      0.000       2.020       2.547\n",
      "=================================================================================\n"
     ]
    }
   ],
   "source": [
    "# Create a linear regression model\n",
    "model_logistic = sm.Logit(data['survived'], data[['intercept', 'gender_binary']])\n",
    "# Fit the model\n",
    "results_logistic = model_logistic.fit()\n",
    "# Print summary statistics, including p-values for each coefficient\n",
    "print(results_logistic.summary())"
   ]
  },
  {
   "cell_type": "markdown",
   "id": "2eae543e-b514-4386-b349-01f55e6451fc",
   "metadata": {},
   "source": [
    "<div dir=\"rtl\"> ניתן לראות שהערך של הפרמטר של geneder_binary הוא 2.2836. בנוסף ניתן לראות שהתוצאה מובהקת לפי הערך בעמודה $P>|z|$. אבל מה המשמעות של 2.2836? \n",
    "    בשביל זה אנחנו צריכים נשתמש במושג חדש שנקרא Odds-Ratio."
   ]
  },
  {
   "cell_type": "markdown",
   "id": "c5fdb6c8-74fe-496f-9ae9-a10aaeb5ec61",
   "metadata": {},
   "source": [
    "<div dir=\"rtl\"> בשיעור הקודם דיברנו על מונח שנקרא logit:\n",
    "    \n",
    "$$ Logit(p) = Log(\\frac{p}{1-p}) = b_0 +b_1*x $$\n",
    "    where\n",
    "$$ p = \\frac{1}{1+e^{b_0 + b_1*x}} $$    "
   ]
  },
  {
   "cell_type": "markdown",
   "id": "c8824240-45f1-46d7-9fb4-40ecec783a24",
   "metadata": {},
   "source": [
    "<div dir=\"rtl\">  הערך שבתוך ה-logit הוא מה שנקרא odds. \n",
    "    \n",
    "    Odds  זה מונח שמתאר פי כמה יותר סביר שארוע יקרה על פני החלופה שלא יקרה. למשל:\n",
    "    \n",
    "אם בחברה A בוצעו 100 נסיעות מבחן ברכבים אוטונומיים וב-25 מהם התרחש אירוע בטיחות בעוד ש75 נסיעות האחרות התנהלו בבטיחות, ההסבתברות לנסיעה מסכונת היא 0.25 ואילו הOddsהוא:\n",
    "    \n",
    "\n",
    "$$ Odds =  \\frac{25/100}{75/100} = \\frac{1}{3} $$"
   ]
  },
  {
   "cell_type": "markdown",
   "id": "c3d40b47-5c53-4cd4-b7f5-ff32b1a7c2d6",
   "metadata": {},
   "source": [
    "<div dir=\"rtl\"> אז למשל נרצה לדעת מה ה-odds להינצל עבור הנשים. תחילה נעשה תחזית ונמצא את הסיכוי להינצל ואז נחשב את הodds."
   ]
  },
  {
   "cell_type": "code",
   "execution_count": 16,
   "id": "20251b7b-5a1c-4958-b680-75b94bf3f088",
   "metadata": {
    "tags": []
   },
   "outputs": [
    {
     "data": {
      "text/plain": [
       "0.6630669546436274"
      ]
     },
     "execution_count": 16,
     "metadata": {},
     "output_type": "execute_result"
    }
   ],
   "source": [
    "pred_df = pd.DataFrame([])\n",
    "pred_df.loc[0,'intercept'] = 1\n",
    "pred_df.loc[0,'gender_binary'] = 1\n",
    "female_survive = results_logistic.predict(pred_df[['intercept', 'gender_binary']]).item()\n",
    "female_survive"
   ]
  },
  {
   "cell_type": "markdown",
   "id": "5d8fac13-1ef4-4049-9fe2-7f84a8a6eef8",
   "metadata": {},
   "source": [
    "<div dir=\"rtl\"> קיבלנו שהסיכוי של אישה לשרוד הוא 0.663. לכן ה-odds הוא:"
   ]
  },
  {
   "cell_type": "code",
   "execution_count": 17,
   "id": "43fe5f03-0037-46d0-8023-b663a1720c33",
   "metadata": {
    "tags": []
   },
   "outputs": [
    {
     "data": {
      "text/plain": [
       "1.9679487179487083"
      ]
     },
     "execution_count": 17,
     "metadata": {},
     "output_type": "execute_result"
    }
   ],
   "source": [
    "female_survive/(1-female_survive)"
   ]
  },
  {
   "cell_type": "markdown",
   "id": "62b56c4a-e163-459e-84f0-6e3eba24a5cb",
   "metadata": {},
   "source": [
    " <div dir=\"rtl\"> כלומר כמעט פי 2 יותר סביר שאישה תשרוד מאשר לא תשרוד.\n",
    "\n",
    "<div dir=\"rtl\">    \n",
    "ניתן לחשב את הodds ידנית על ידי הזנת הערכים של המקדמים.\n",
    "    \n",
    "$$ Log(\\frac{p}{1-p}) = b_0 +b1*gender $$\n",
    "$$ Odds = \\frac{p}{1-p} = e^{ b_0 +b1*gender} $$    \n",
    "$$ Odds = e^{-1.606 + 2.2836*1} = 1.968 $$"
   ]
  },
  {
   "cell_type": "markdown",
   "id": "16319d53-6256-4cb7-a73d-159a5b6eb4eb",
   "metadata": {},
   "source": [
    "   \n",
    "## Odd-Ration"
   ]
  },
  {
   "cell_type": "markdown",
   "id": "a0d0c455-2810-434a-9211-e7c79debad41",
   "metadata": {},
   "source": [
    "<div dir=\"rtl\"> ה-Odds-Ratio בעצם זה יחס של Odds תחת שני ערכים שונים. למשל במקרה של משתנה קטגוריאלי זה היחס בין הodds של נשים מול הodds של גברים.החישוב הוא:"
   ]
  },
  {
   "cell_type": "code",
   "execution_count": 36,
   "id": "f194cf46-8040-48c1-b0b6-858a056e940f",
   "metadata": {
    "tags": []
   },
   "outputs": [
    {
     "data": {
      "text/html": [
       "<div>\n",
       "<style scoped>\n",
       "    .dataframe tbody tr th:only-of-type {\n",
       "        vertical-align: middle;\n",
       "    }\n",
       "\n",
       "    .dataframe tbody tr th {\n",
       "        vertical-align: top;\n",
       "    }\n",
       "\n",
       "    .dataframe thead th {\n",
       "        text-align: right;\n",
       "    }\n",
       "</style>\n",
       "<table border=\"1\" class=\"dataframe\">\n",
       "  <thead>\n",
       "    <tr style=\"text-align: right;\">\n",
       "      <th></th>\n",
       "      <th>intercept</th>\n",
       "      <th>gender_binary</th>\n",
       "    </tr>\n",
       "  </thead>\n",
       "  <tbody>\n",
       "    <tr>\n",
       "      <th>0</th>\n",
       "      <td>1.0</td>\n",
       "      <td>1.0</td>\n",
       "    </tr>\n",
       "  </tbody>\n",
       "</table>\n",
       "</div>"
      ],
      "text/plain": [
       "   intercept  gender_binary\n",
       "0        1.0            1.0"
      ]
     },
     "execution_count": 36,
     "metadata": {},
     "output_type": "execute_result"
    }
   ],
   "source": [
    "pred_df"
   ]
  },
  {
   "cell_type": "code",
   "execution_count": 37,
   "id": "e3e840cb-d2c3-4825-980b-95bedc40feef",
   "metadata": {
    "tags": []
   },
   "outputs": [
    {
     "data": {
      "text/plain": [
       "0    0.663067\n",
       "1    0.167059\n",
       "dtype: float64"
      ]
     },
     "execution_count": 37,
     "metadata": {},
     "output_type": "execute_result"
    }
   ],
   "source": [
    "pred_df = pd.DataFrame([])\n",
    "pred_df.loc[0,'intercept'] = 1\n",
    "pred_df.loc[0,'gender_binary'] = 1\n",
    "\n",
    "pred_df.loc[1,'intercept'] = 1\n",
    "pred_df.loc[1,'gender_binary'] = 0\n",
    "\n",
    "survive_prob = results_logistic.predict(pred_df[['intercept', 'gender_binary']])\n",
    "survive_prob"
   ]
  },
  {
   "cell_type": "code",
   "execution_count": 38,
   "id": "90db3b9d-cf3b-4e60-93fa-aac375352afb",
   "metadata": {
    "tags": []
   },
   "outputs": [
    {
     "data": {
      "text/plain": [
       "(0.20056497175141233, 1.9679487179487083)"
      ]
     },
     "execution_count": 38,
     "metadata": {},
     "output_type": "execute_result"
    }
   ],
   "source": [
    "female_prob = survive_prob[0]\n",
    "male_prob = survive_prob[1]\n",
    "female_odds = female_prob/(1-female_prob)\n",
    "male_odds = male_prob/(1-male_prob)\n",
    "male_odds, female_odds"
   ]
  },
  {
   "cell_type": "code",
   "execution_count": 39,
   "id": "b4d1e57a-8164-4f1b-bee6-a3f46da69ceb",
   "metadata": {
    "tags": []
   },
   "outputs": [
    {
     "data": {
      "text/plain": [
       "9.812026002166803"
      ]
     },
     "execution_count": 39,
     "metadata": {},
     "output_type": "execute_result"
    }
   ],
   "source": [
    "female_odds/male_odds "
   ]
  },
  {
   "cell_type": "markdown",
   "id": "4c5518e3-b8bb-48b8-92ca-6eb5af9615f8",
   "metadata": {},
   "source": [
    "<div dir=\"rtl\"> משמעות המספר הזה שהodds  של אישה לשרוד גדול פי 9.81 מגבר. "
   ]
  },
  {
   "cell_type": "markdown",
   "id": "21279669-b11c-41e8-ac5b-ba216a54efb6",
   "metadata": {},
   "source": [
    "<div dir=\"rtl\"> \n",
    "    \n",
    "## דוגמא"
   ]
  },
  {
   "cell_type": "markdown",
   "id": "993834f3-74a4-4afd-b2dc-f8c4382748b3",
   "metadata": {},
   "source": [
    " <div dir=\"rtl\">  במפעל להכנת בקבוקים משתשמים בשני סוגים של מכונות A ו-B. מכונה A היא מכונה חדישה יותר ולרוב נחשבת יותר אמינה. במפעל יש 100 מכונות מסוג A ו-100 מסוג B. לפעמים יש אירוע בטיחות כלשהו עם המכונה כאשר משהו משתבש במכונה. מניסיון עבר גורם היכול להשפיע על גורם כזה הוא גיל המכונה. "
   ]
  },
  {
   "cell_type": "markdown",
   "id": "4af0ca00-e7a2-4381-968d-16a0ae9399e0",
   "metadata": {
    "jupyter": {
     "outputs_hidden": true
    },
    "tags": []
   },
   "source": [
    "<div dir=\"rtl\"> גיל המכונה נמדד בחודשים.\n",
    "<div dir=\"rtl\">\n",
    "להלן dataframe המתאר את הנתנונים של הבעיה. העמודות הן:\n",
    "<div dir=\"rtl\">    \n",
    "Machine - סוג המכונה\n",
    "<div dir=\"rtl\">\n",
    "month - גיל המכונה בחודשים\n",
    "<div dir=\"rtl\">    \n",
    "safety_event - האם היה ארוע בטיחות או לאו"
   ]
  },
  {
   "cell_type": "code",
   "execution_count": 239,
   "id": "0f56acda-4943-46ff-97ad-b93df88ae3aa",
   "metadata": {
    "tags": []
   },
   "outputs": [],
   "source": [
    "df_factory1 = df_factory.loc[:, ['Machine', 'month', 'safety_event']]"
   ]
  },
  {
   "cell_type": "code",
   "execution_count": 240,
   "id": "1d036e78-66e8-4707-85fb-f8bc72913939",
   "metadata": {},
   "outputs": [],
   "source": [
    "pkl.dump(df_factory1, open('../pkl/df_factory.pkl', 'wb'))"
   ]
  },
  {
   "cell_type": "code",
   "execution_count": 144,
   "id": "32540772-0455-4782-a561-de0960c4c0ae",
   "metadata": {
    "tags": []
   },
   "outputs": [],
   "source": [
    "df_factory = pd.DataFrame([])\n",
    "df_factory['Machine_binary'] = np.append(np.zeros(200), np.ones(200))\n",
    "df_factory['Machine'] =  df_factory['Machine_binary'].apply(lambda x: 'A' if x==0 else 'B')\n",
    "df_factory['month'] = np.append(np.random.randint(1,300,200),np.random.randint(1,300,200))\n",
    "df_factory['intercept'] = np.ones(df_factory.shape[0])\n"
   ]
  },
  {
   "cell_type": "code",
   "execution_count": 146,
   "id": "4de224aa-2f36-4e5c-9f93-37318ab90547",
   "metadata": {
    "collapsed": true,
    "jupyter": {
     "outputs_hidden": true
    },
    "tags": []
   },
   "outputs": [
    {
     "data": {
      "text/html": [
       "<div>\n",
       "<style scoped>\n",
       "    .dataframe tbody tr th:only-of-type {\n",
       "        vertical-align: middle;\n",
       "    }\n",
       "\n",
       "    .dataframe tbody tr th {\n",
       "        vertical-align: top;\n",
       "    }\n",
       "\n",
       "    .dataframe thead th {\n",
       "        text-align: right;\n",
       "    }\n",
       "</style>\n",
       "<table border=\"1\" class=\"dataframe\">\n",
       "  <thead>\n",
       "    <tr style=\"text-align: right;\">\n",
       "      <th></th>\n",
       "      <th>index</th>\n",
       "      <th>Machine_binary</th>\n",
       "      <th>Machine</th>\n",
       "      <th>month</th>\n",
       "      <th>intercept</th>\n",
       "    </tr>\n",
       "  </thead>\n",
       "  <tbody>\n",
       "    <tr>\n",
       "      <th>0</th>\n",
       "      <td>296</td>\n",
       "      <td>1.0</td>\n",
       "      <td>B</td>\n",
       "      <td>1</td>\n",
       "      <td>1.0</td>\n",
       "    </tr>\n",
       "    <tr>\n",
       "      <th>1</th>\n",
       "      <td>264</td>\n",
       "      <td>1.0</td>\n",
       "      <td>B</td>\n",
       "      <td>1</td>\n",
       "      <td>1.0</td>\n",
       "    </tr>\n",
       "    <tr>\n",
       "      <th>2</th>\n",
       "      <td>246</td>\n",
       "      <td>1.0</td>\n",
       "      <td>B</td>\n",
       "      <td>2</td>\n",
       "      <td>1.0</td>\n",
       "    </tr>\n",
       "    <tr>\n",
       "      <th>3</th>\n",
       "      <td>195</td>\n",
       "      <td>0.0</td>\n",
       "      <td>A</td>\n",
       "      <td>4</td>\n",
       "      <td>1.0</td>\n",
       "    </tr>\n",
       "    <tr>\n",
       "      <th>4</th>\n",
       "      <td>343</td>\n",
       "      <td>1.0</td>\n",
       "      <td>B</td>\n",
       "      <td>4</td>\n",
       "      <td>1.0</td>\n",
       "    </tr>\n",
       "  </tbody>\n",
       "</table>\n",
       "</div>"
      ],
      "text/plain": [
       "   index  Machine_binary Machine  month  intercept\n",
       "0    296             1.0       B      1        1.0\n",
       "1    264             1.0       B      1        1.0\n",
       "2    246             1.0       B      2        1.0\n",
       "3    195             0.0       A      4        1.0\n",
       "4    343             1.0       B      4        1.0"
      ]
     },
     "execution_count": 146,
     "metadata": {},
     "output_type": "execute_result"
    }
   ],
   "source": [
    "df_factory = df_factory.sort_values(by= ['month'])\n",
    "df_factory = df_factory.reset_index()\n",
    "machine_years = np.array(df_factory['month'])\n",
    "machine_type = np.array(df_factory['Machine_binary'])\n",
    "df_factory.head()"
   ]
  },
  {
   "cell_type": "code",
   "execution_count": 222,
   "id": "b402a94e-1ed7-4273-8e55-4b5721aa9780",
   "metadata": {
    "tags": []
   },
   "outputs": [],
   "source": [
    "b0, b1 , b2 = -8, 0.03, 2.2\n",
    "probs = 1/(1+np.exp(-(b0 +  b1*machine_years + b2*machine_type)))"
   ]
  },
  {
   "cell_type": "code",
   "execution_count": 189,
   "id": "13bbdf48-67c4-4e1c-841b-1a683ca42036",
   "metadata": {
    "tags": []
   },
   "outputs": [],
   "source": [
    "df_factory['safety_event']  = (np.random.rand(400)>1/(1+np.exp(b0 +  b1*machine_years + b2*machine_type))).astype(int)"
   ]
  },
  {
   "cell_type": "code",
   "execution_count": 242,
   "id": "80bdb2d6-2c57-4921-aae9-0a7288278501",
   "metadata": {
    "tags": []
   },
   "outputs": [],
   "source": [
    "df_factory = pkl.load( open('../pkl/df_factory.pkl', 'rb'))"
   ]
  },
  {
   "cell_type": "code",
   "execution_count": 248,
   "id": "e44ccfa9-5f32-46d1-8054-3debea96fe02",
   "metadata": {
    "tags": []
   },
   "outputs": [],
   "source": [
    "df_factory['Machine_binary'] = df_factory['Machine'].apply(lambda x: 0 if x=='A' else 1)"
   ]
  },
  {
   "cell_type": "markdown",
   "id": "77568655-6787-4bf8-860a-b685cf6ff55f",
   "metadata": {},
   "source": [
    "<div dir=\"rtl\">  קודם נסתכל על הנתונים ויזואלית"
   ]
  },
  {
   "cell_type": "code",
   "execution_count": 249,
   "id": "f9403706-0db9-4a02-a17e-42b21539f062",
   "metadata": {
    "tags": []
   },
   "outputs": [
    {
     "data": {
      "image/png": "[encoded data removed]",
      "text/plain": [
       "<Figure size 640x480 with 1 Axes>"
      ]
     },
     "metadata": {},
     "output_type": "display_data"
    }
   ],
   "source": [
    "machine1 = 0\n",
    "curr_df1 = df_factory.loc[df_factory['Machine_binary']==machine1, :]\n",
    "machine2 = 1\n",
    "curr_df2 = df_factory.loc[df_factory['Machine_binary']==machine2, :]\n",
    "\n",
    "plt.figure()\n",
    "plt.scatter(curr_df1['month'], curr_df1['safety_event'], label =  'Machine A', color = 'orange', s= 90, alpha = 0.6)\n",
    "plt.scatter(curr_df2['month'], curr_df2['safety_event'], label =  'Machine B', color = 'blue', alpha = 0.6, marker = '*', s = 90)\n",
    "plt.xlabel('Month', fontsize = 18)\n",
    "plt.ylabel('Safety event',  fontsize = 18)\n",
    "plt.grid()\n",
    "plt.title('Data points',  fontsize = 22)\n",
    "plt.legend()\n",
    "plt.show()"
   ]
  },
  {
   "cell_type": "markdown",
   "id": "4e8667df-0786-4c6c-9948-c8501896320c",
   "metadata": {},
   "source": [
    "<div dir=\"rtl\">  זה נראה שיש סיכוי יותר גדול למכונות ותיקות להגיע לארוע בטיחותי. בנוסף נראה שקיים הבדל בין המכונות. ננתח יותר לעומק. נתחיל לעשות רגרסיה לוגיסטית:"
   ]
  },
  {
   "cell_type": "code",
   "execution_count": 250,
   "id": "d65c85e4-3eeb-4953-a899-3c474eab6bb6",
   "metadata": {
    "tags": []
   },
   "outputs": [],
   "source": [
    "df_factory['intercept'] = np.ones(df_factory.shape[0])"
   ]
  },
  {
   "cell_type": "code",
   "execution_count": 251,
   "id": "1a02b513-ebf6-4b0d-8e1b-c1a6298fa529",
   "metadata": {
    "tags": []
   },
   "outputs": [
    {
     "name": "stdout",
     "output_type": "stream",
     "text": [
      "Optimization terminated successfully.\n",
      "         Current function value: 0.305982\n",
      "         Iterations 8\n",
      "                           Logit Regression Results                           \n",
      "==============================================================================\n",
      "Dep. Variable:           safety_event   No. Observations:                  400\n",
      "Model:                          Logit   Df Residuals:                      397\n",
      "Method:                           MLE   Df Model:                            2\n",
      "Date:                Tue, 24 Oct 2023   Pseudo R-squ.:                  0.4559\n",
      "Time:                        14:20:42   Log-Likelihood:                -122.39\n",
      "converged:                       True   LL-Null:                       -224.93\n",
      "Covariance Type:            nonrobust   LLR p-value:                 2.930e-45\n",
      "==================================================================================\n",
      "                     coef    std err          z      P>|z|      [0.025      0.975]\n",
      "----------------------------------------------------------------------------------\n",
      "intercept         -8.2083      0.881     -9.322      0.000      -9.934      -6.482\n",
      "Machine_binary     2.3786      0.374      6.360      0.000       1.646       3.112\n",
      "month              0.0303      0.003      8.674      0.000       0.023       0.037\n",
      "==================================================================================\n"
     ]
    }
   ],
   "source": [
    "model_logistic1 = sm.Logit(df_factory['safety_event'], df_factory[['intercept', 'Machine_binary', 'month']])\n",
    "result_logistic1 = model_logistic1.fit()\n",
    "print(result_logistic1.summary())"
   ]
  },
  {
   "cell_type": "markdown",
   "id": "e04b16f5-0b7d-46b7-abe6-60f44055e0c9",
   "metadata": {},
   "source": [
    "<div dir=\"rtl\"> ניתן לראות את הערכים של המקדמים והעובדה שהם מובהקים. נראה כי machine_binary הוא 2.3786, כלומר הLog Odds גדל ב2.3786 כעת עוברים ממכונה A למכונה B. \n",
    "    השיפוע של הmonth הוא 0.03 כלומר ככל שהכיל עולה כך גם ההסתברות לארוע בטיחותי. "
   ]
  },
  {
   "cell_type": "markdown",
   "id": "8e8615e9-c912-41bc-8f54-67f7dae3ee35",
   "metadata": {},
   "source": [
    "<div dir=\"rtl\"> כעת נגיד את גרף הרגרסיה שקיבלנו עבור כל מכונה בנפרד. כך נוכל להתרשם גם מההבדל בין המכונות והקשר בין הגיל וארוע בטיחות"
   ]
  },
  {
   "cell_type": "code",
   "execution_count": 254,
   "id": "bc4aca42-55c2-4f99-be47-c2d6c10549e7",
   "metadata": {
    "tags": []
   },
   "outputs": [],
   "source": [
    "# predictions for machine A\n",
    "x_vals = np.linspace(0, 500, 100)\n",
    "data_predA = pd.DataFrame([])\n",
    "data_predA['Machine_binary'] = np.zeros(x_vals.shape[0])\n",
    "data_predA['intercept'] = np.ones(x_vals.shape[0])\n",
    "data_predA['month'] = x_vals\n",
    "data_predA['safety_event_prob'] = result_logistic1.predict(data_predA[['intercept', 'Machine_binary', 'month']])\n",
    "\n",
    "# predictions for machine B\n",
    "x_vals = np.linspace(0, 500, 100)\n",
    "data_predB = pd.DataFrame([])\n",
    "data_predB['Machine_binary'] = np.ones(x_vals.shape[0])\n",
    "data_predB['intercept'] = np.ones(x_vals.shape[0])\n",
    "data_predB['month'] = x_vals\n",
    "data_predB['safety_event_prob'] = result_logistic1.predict(data_predB[['intercept', 'Machine_binary', 'month']])"
   ]
  },
  {
   "cell_type": "code",
   "execution_count": 256,
   "id": "7b46d7e9-a769-4d51-a34c-62cb5b2dd405",
   "metadata": {
    "tags": []
   },
   "outputs": [
    {
     "data": {
      "image/png": "[encoded data removed]",
      "text/plain": [
       "<Figure size 640x480 with 1 Axes>"
      ]
     },
     "metadata": {},
     "output_type": "display_data"
    }
   ],
   "source": [
    "plt.figure()\n",
    "plt.plot(data_predA['month'], data_predA['safety_event_prob'], label = 'logistic regression: Machine A', color = 'green')\n",
    "plt.plot(data_predB['month'], data_predB['safety_event_prob'], label = 'logistic regression: Machine B', color = 'red')\n",
    "plt.xlabel('Month', fontsize = 18)\n",
    "plt.ylabel('Probability of safety event',  fontsize = 18)\n",
    "plt.grid()\n",
    "plt.title('Logistic regression: ',  fontsize = 22)\n",
    "plt.legend()\n",
    "plt.show()"
   ]
  },
  {
   "cell_type": "markdown",
   "id": "df72a7cf-d7ee-4119-bed0-391088ce8bd2",
   "metadata": {},
   "source": [
    "<div dir=\"rtl\"> כעת, נחשב את הLog odds עבור כל מכונה כאשר גיל המכונה הוא  200 חודש."
   ]
  },
  {
   "cell_type": "code",
   "execution_count": 258,
   "id": "b8a78c3e-d537-44f1-9bcf-8b828277f18c",
   "metadata": {},
   "outputs": [
    {
     "data": {
      "text/plain": [
       "0    0.103705\n",
       "1    0.555232\n",
       "dtype: float64"
      ]
     },
     "execution_count": 258,
     "metadata": {},
     "output_type": "execute_result"
    }
   ],
   "source": [
    "pred_df1 = pd.DataFrame([])\n",
    "pred_df1.loc[0,'intercept'] = 1\n",
    "pred_df1.loc[0,'Machine_binary'] = 0\n",
    "pred_df1.loc[0,'month'] = 200\n",
    "\n",
    "pred_df1.loc[1,'intercept'] = 1\n",
    "pred_df1.loc[1,'Machine_binary'] = 1\n",
    "pred_df1.loc[1,'month'] = 200\n",
    "\n",
    "safety_event_prob = result_logistic1.predict(pred_df1[['intercept', 'Machine_binary', 'month']])\n",
    "safety_event_prob"
   ]
  },
  {
   "cell_type": "code",
   "execution_count": 262,
   "id": "6dc04596-fdee-44ad-a26c-296f9cc9d45a",
   "metadata": {},
   "outputs": [
    {
     "data": {
      "text/plain": [
       "(0.10370462633754647, 0.5552322627541582)"
      ]
     },
     "execution_count": 262,
     "metadata": {},
     "output_type": "execute_result"
    }
   ],
   "source": [
    "machine_A_prob = safety_event_prob[0]\n",
    "machine_B_prob = safety_event_prob[1]\n",
    "machine_A_prob, machine_B_prob "
   ]
  },
  {
   "cell_type": "markdown",
   "id": "8cc685d5-d849-4af8-a269-75832fe15170",
   "metadata": {},
   "source": [
    "<div dir=\"rtl\"> כלומר ההסתברות לארוע בטיחות עבור מכונה A בגיל 200 הוא 0.103\n",
    "<div dir=\"rtl\">\n",
    "הסתברות לארוע בטיחות עבור מכונה B בגיל 200 הוא 0.555.\n",
    "<div dir=\"rtl\">    \n",
    "מכאן נחשב את הlogs odds.\n",
    "    "
   ]
  },
  {
   "cell_type": "code",
   "execution_count": 261,
   "id": "7a1c7b8e-84e6-4284-9957-32d637b2cd21",
   "metadata": {},
   "outputs": [
    {
     "data": {
      "text/plain": [
       "(0.1157036278272723, 1.2483645198555802)"
      ]
     },
     "execution_count": 261,
     "metadata": {},
     "output_type": "execute_result"
    }
   ],
   "source": [
    "odds_ratioA = machine_A_prob/(1-machine_A_prob)\n",
    "odds_ratioB = machine_B_prob/(1-machine_B_prob)\n",
    "odds_ratioA, odds_ratioB"
   ]
  },
  {
   "cell_type": "markdown",
   "id": "da276c6a-9835-463a-910e-d8da9bcafa45",
   "metadata": {},
   "source": [
    "## Odds - Ratio (OR)"
   ]
  },
  {
   "cell_type": "markdown",
   "id": "6b7c1f40-31a9-42c9-a80d-96d9ca570145",
   "metadata": {},
   "source": [
    "<div dir=\"rtl\">\n",
    "זה בעצם מדד שמשווה את הodds עבור שני מקרים שונים. למשל, מקרה 1 מתאר את הסיכוי לארוע בטיחותי במכונה A כאשר המכונה כבר עובדת 200 חודשים. מקרה 2, מתאר את הסיכוי לארוע בטיחותי במכונה B כאשר המכונה עובדת גם 200 חודשים. נרצה לדעת מי מהמקרים יותר בסכנה וגם נרצה לדעת האם יש הבדל גדול או קטן. הOR מחושב באופו הבא:\n",
    "    \n",
    "$$ OR  = \\frac{Odds1}{Odds2} $$\n",
    "\n",
    "<div dir=\"rtl\"> \n",
    " $Odds1$ ו- $Odds2$ מתאר הסיכויים למקרה 1 ו-2, בהתאמה.\n",
    "ה-OR בעצם אומר פי כמה הOdds של מקרה 1 גדול מהOdds של מקרה 2.\n",
    "\n",
    "    \n",
    "    במקרה שלנו:"
   ]
  },
  {
   "cell_type": "code",
   "execution_count": 235,
   "id": "f26e3184-ab8f-4962-9ea0-71a1353a061c",
   "metadata": {},
   "outputs": [
    {
     "data": {
      "text/plain": [
       "10.789329110053457"
      ]
     },
     "execution_count": 235,
     "metadata": {},
     "output_type": "execute_result"
    }
   ],
   "source": [
    "OR = odds_ratioB/odds_ratioA\n",
    "OR"
   ]
  },
  {
   "cell_type": "markdown",
   "id": "bcf77bea-b6ab-46ed-a5e1-858955240197",
   "metadata": {},
   "source": [
    "<div dir=\"rtl\">\n",
    "כאשר: \n",
    "<div dir=\"rtl\">\n",
    "OR = 1: המשמעות היא שהארוע יתרחש באופן שווה בשתי הקבוצות. אין חיבור או הבחנה בין הקבוצות השניות.\n",
    "<div dir=\"rtl\">\n",
    "OR < 1: מרמז על כך שהארוע פחות יתרחש בקבוצה א מאשר בקבוצה ב. במילים אחרות, בקבוצה א יש סיכוי נמוך יותר לקרותו.\n",
    "<div dir=\"rtl\">\n",
    "OR > 1: מרמז על כך שהארוע יתרחש יותר בקבוצה א מאשר בקבוצה ב. במילים אחרות, בקבוצה א יש סיכוי גבוה יותר לקרותו."
   ]
  },
  {
   "cell_type": "markdown",
   "id": "e2741628-5f62-49ff-b93f-56b6f0035559",
   "metadata": {},
   "source": [
    "<div dir=\"rtl\"> במקרה שלנו הOR שווה ל10.789. לכן הסיכוי (כלומר הodds) שיהיה ארוע בטיחותי במכונה B גדול פי 10.78 מאשר במכונה A. "
   ]
  },
  {
   "cell_type": "markdown",
   "id": "84a4829a-59db-4b76-996c-b696a7960f80",
   "metadata": {},
   "source": [
    "# Log Odds Ratio"
   ]
  },
  {
   "cell_type": "markdown",
   "id": "07f9ea49-b975-48b3-9f46-228e75f7082f",
   "metadata": {
    "tags": []
   },
   "source": [
    "<div dir=\"rtl\"> המונח log odds ratio הוא בעצם הlog של ה-OR. מונח זה מעניין אותנו כי במקרה של משתנה קטגוריאלי אנחנו רואים כי הlog odds ratio בעצם שווה לפרמטר הליניארי של המשתנה הקטרגוריאלי. ניתן לראות זאת במשוואה למטה."
   ]
  },
  {
   "cell_type": "markdown",
   "id": "cfd819dc-6f72-4bb5-9e3f-32e07f2fd727",
   "metadata": {},
   "source": [
    "$$ \\pi_1 = \\frac{1}{1+e^{intercept + month*200 + Machine binary*1} }$$\n",
    "$$ \\pi_2 = \\frac{1}{1+e^{b_0 + month*200 + Machine binary*0} }$$"
   ]
  },
  {
   "cell_type": "markdown",
   "id": "80b0c553-b67e-4768-a25a-918ab7b0f0df",
   "metadata": {},
   "source": [
    "<div dir=\"rtl\"> נפריד בין שני מקרים כאשר מקרה מתייחס לערך קטגוריאלי עם הערך 0 והשני עם הערך 1. במונחים שלנו מכונה A ומכונה B. נסמן את הסיכוי למקרה של מכונה A ב-1 ומכונה B ב-0."
   ]
  },
  {
   "cell_type": "markdown",
   "id": "46db9682-6d7b-49ad-b738-5fac046e7afa",
   "metadata": {},
   "source": [
    "<div dir=\"rtl\"> $\\pi_1$ הסיכוי לארוע ביטחותי במכונה B כאשר המכונה עם 200 חודשים.\n",
    "\n",
    "<div dir=\"rtl\"> $\\pi_2$ הסיכוי לארוע ביטחותי במכונה A כאשר המכונה עם 200 חודשים."
   ]
  },
  {
   "cell_type": "markdown",
   "id": "83b6afc2-5311-4439-9754-646adc473b80",
   "metadata": {},
   "source": [
    "$$ Log\\left(\\frac{\\frac{\\pi_1}{1-\\pi_1}}{\\frac{\\pi_2}{1-\\pi_2}}\\right) =Log\\left( \\frac{e^{intercept + month*200 + Machine binary}}{e^{intercept + month*200}} \\right)=Log\\left( e^{Machine binary} \\right) = Machine binary $$"
   ]
  },
  {
   "cell_type": "markdown",
   "id": "18c7bdfb-0b04-4a3d-8d8e-3c9aa20fb556",
   "metadata": {},
   "source": [
    "<div dir=\"rtl\"> בעצם הlog odds ratio הוא פשוט הפרמטר של המשתנה הקטגוריאלי. במקרה זה הערך הוא מספר עם משמעות ולכן הוא נעשה מעניין."
   ]
  },
  {
   "cell_type": "markdown",
   "id": "67f41e1e-d99d-47d7-9f8f-9e3d43602e5f",
   "metadata": {
    "tags": []
   },
   "source": [
    "<div dir=\"rtl\"> במקרה הכללי זה נראה כך:"
   ]
  },
  {
   "cell_type": "markdown",
   "id": "66062b07-cb34-4581-af56-b134e41cde92",
   "metadata": {},
   "source": [
    "$$ \\pi_1 = \\frac{1}{1+e^{b_0 + b_1*x_1 + b_2*1} }$$\n",
    "$$ \\pi_2 = \\frac{1}{1+e^{b_0 + b_1*x_1 + b_2*0} }$$"
   ]
  },
  {
   "cell_type": "markdown",
   "id": "68610968-b221-4fa9-9802-886bef7adafc",
   "metadata": {},
   "source": [
    "$$ Log\\left(\\frac{\\frac{\\pi_1}{1-\\pi_1}}{\\frac{\\pi_2}{1-\\pi_2}}\\right) =Log\\left( \\frac{e^{b_0 + b_1*x_1 + b_2}}{e^{b_0 + b_1*x_1}} \\right)=Log\\left( e^{b_2} \\right) = b_2 $$"
   ]
  },
  {
   "cell_type": "markdown",
   "id": "979222f3-ac4e-480b-a17e-c2e8d1fb965d",
   "metadata": {},
   "source": [
    "<div dir=\"rtl\"> \n",
    "    \n",
    "## רגרסיה לוגיטסית עבור בעיות סיווג."
   ]
  },
  {
   "cell_type": "markdown",
   "id": "ba57b0f9-c2ba-441d-8b8c-89f713b23dd2",
   "metadata": {},
   "source": [
    "<div dir=\"rtl\"> רגרסיה לוגיסטית נותנת לנו הסתברות להתרחשות ארוע מסוים. ההסברות הזאת יכולה לשמש לנו כסיווג. למשל ההסתברות לארוע במכונה A בכיל 200 חודשים היא 0.103. לכן יותר סביר לסווג את זה כ\"לא יהיה ארוע\". כלל אצבע אחד זה להגיד אם ההסברות היא קטנה מ0.5 נגיד שלא יהיה ארוע ואם היא גדולה מ0.5 נגיד שכן. אבל זה ממש לא חייב להיות 0.5, זה יכול להיות ערך אחר, תלוי בבעיה וההשלכות של סיווג. בדוגמא למעלה בעיית הסיווג חשובה, אם למשל נראה שיש הסתברות גבוהה יחסית לארוע בטיחותי אולי יהיה כדאי לעשות השבחה למכונה. "
   ]
  },
  {
   "cell_type": "markdown",
   "id": "5f1bf1ee-efd0-40d8-945d-2c8243808820",
   "metadata": {},
   "source": [
    "<div dir=\"rtl\"> \n",
    "    \n",
    "### כלל החלטה בבעיות סיווג\n",
    "  \n",
    "<div dir=\"rtl\"> \n",
    "כאמור רגרסיה לוגיסטית נותנת לנו הסתברות למאורע, ועל סמך אותה הסתברות נרצה לקבוע את הסיווג. נניח שמקרה הזה נקבע כי הסיווג נעשה לפי הסתברות 0.5. נבדוק עד כנמה מדויק התחזיות שלנו. "
   ]
  },
  {
   "cell_type": "markdown",
   "id": "2ab56f6d-280b-417e-b0fb-d2a70b32ba8f",
   "metadata": {},
   "source": [
    "<div dir=\"rtl\">  בבעיית סיווג למעלה אנחנו מפרידים \"היה ארוע בטיחותי\" ו\"לא היה ארוע בטיחותי\". נסמן את \"היה ארוע בטיחותי\" כ --positive ו-\"לא היה ארוע בטיחותי\" כ negative .\n",
    "זהו סימון סטנדרטי בבעיות סיווג כאשר הPositive זה המארוע שאנחנו מנסים לחזות. \n",
    "    בעיות סיווג יש 4 תוצאות אפשריות:\n",
    "    \n",
    "<div dir=\"rtl\">\n",
    "TP (True postive) - חזינו Positive ואכן היה positive. ה-True מציין את זה שהסיווג היה נכון.\n",
    "    \n",
    "<div dir=\"rtl\">\n",
    "FP (False postive) - חזינו Positive אבל היה Negative. ה-False מציין את זה שהסיווג היה לא נכון.\n",
    "    \n",
    "<div dir=\"rtl\">\n",
    "TN (True Negative) - חזינו Negative ואכן היה Negative. ה-True מציין את זה שהסיווג היה נכון.\n",
    "    \n",
    "<div dir=\"rtl\">\n",
    "FN (False Negative) - חזינו Negative ואכן היה Positive.  ה-False מציין את זה שהסיווג היה לא נכון.\n",
    "    "
   ]
  },
  {
   "cell_type": "markdown",
   "id": "77bc44fc-2a8c-4b8e-bfd0-f3ae42442df0",
   "metadata": {},
   "source": [
    "<div dir=\"rtl\">  בעצם מתוך 4 המקרים, שניים מהם סיווג נכון ושניים סיווג לא נכון. עבור הסיווגים הלא נכונים אנחנו מחלקים ל-2 סוגי טעויות. \n",
    "    \n",
    "<div dir=\"rtl\"> \n",
    "טעות מסוג ראשון: זה המקרה של FP כאשר זה היה Positive אבל חשבנו Negative. \n",
    "    \n",
    "<div dir=\"rtl\"> \n",
    "טעות מסוג שני: זה המקרה של FN כאשר זה היה Negative אבל חשבנו Positive.    "
   ]
  },
  {
   "cell_type": "markdown",
   "id": "ac054810-a40e-4d9e-8500-7f1e6a8d13db",
   "metadata": {},
   "source": [
    "<div dir=\"rtl\">  כעת נחשב את כל המקרים: TP, FP, TN, FN"
   ]
  },
  {
   "cell_type": "code",
   "execution_count": 263,
   "id": "b6817f85-9f03-4abe-ad06-0ba9edc5f57b",
   "metadata": {
    "tags": []
   },
   "outputs": [
    {
     "data": {
      "text/html": [
       "<div>\n",
       "<style scoped>\n",
       "    .dataframe tbody tr th:only-of-type {\n",
       "        vertical-align: middle;\n",
       "    }\n",
       "\n",
       "    .dataframe tbody tr th {\n",
       "        vertical-align: top;\n",
       "    }\n",
       "\n",
       "    .dataframe thead th {\n",
       "        text-align: right;\n",
       "    }\n",
       "</style>\n",
       "<table border=\"1\" class=\"dataframe\">\n",
       "  <thead>\n",
       "    <tr style=\"text-align: right;\">\n",
       "      <th></th>\n",
       "      <th>Machine</th>\n",
       "      <th>month</th>\n",
       "      <th>safety_event</th>\n",
       "      <th>Machine_binary</th>\n",
       "      <th>intercept</th>\n",
       "    </tr>\n",
       "  </thead>\n",
       "  <tbody>\n",
       "    <tr>\n",
       "      <th>0</th>\n",
       "      <td>B</td>\n",
       "      <td>1</td>\n",
       "      <td>0</td>\n",
       "      <td>1</td>\n",
       "      <td>1.0</td>\n",
       "    </tr>\n",
       "    <tr>\n",
       "      <th>1</th>\n",
       "      <td>B</td>\n",
       "      <td>1</td>\n",
       "      <td>0</td>\n",
       "      <td>1</td>\n",
       "      <td>1.0</td>\n",
       "    </tr>\n",
       "    <tr>\n",
       "      <th>2</th>\n",
       "      <td>B</td>\n",
       "      <td>2</td>\n",
       "      <td>0</td>\n",
       "      <td>1</td>\n",
       "      <td>1.0</td>\n",
       "    </tr>\n",
       "    <tr>\n",
       "      <th>3</th>\n",
       "      <td>A</td>\n",
       "      <td>4</td>\n",
       "      <td>0</td>\n",
       "      <td>0</td>\n",
       "      <td>1.0</td>\n",
       "    </tr>\n",
       "    <tr>\n",
       "      <th>4</th>\n",
       "      <td>B</td>\n",
       "      <td>4</td>\n",
       "      <td>0</td>\n",
       "      <td>1</td>\n",
       "      <td>1.0</td>\n",
       "    </tr>\n",
       "  </tbody>\n",
       "</table>\n",
       "</div>"
      ],
      "text/plain": [
       "  Machine  month  safety_event  Machine_binary  intercept\n",
       "0       B      1             0               1        1.0\n",
       "1       B      1             0               1        1.0\n",
       "2       B      2             0               1        1.0\n",
       "3       A      4             0               0        1.0\n",
       "4       B      4             0               1        1.0"
      ]
     },
     "execution_count": 263,
     "metadata": {},
     "output_type": "execute_result"
    }
   ],
   "source": [
    "df_factory.head()"
   ]
  },
  {
   "cell_type": "markdown",
   "id": "85acca65-69e1-418a-a94f-d1dc1720dd22",
   "metadata": {},
   "source": [
    "<div dir=\"rtl\">  תחילה נחשב עמודה שקוראים להם prob_preds, שהיא מציינת את ההסתברות למאורע ואז נחשב עמודה בשם Preds שהיא הסיווג."
   ]
  },
  {
   "cell_type": "code",
   "execution_count": null,
   "id": "21cf29b0-c527-417d-bd1e-c0aff62126c0",
   "metadata": {},
   "outputs": [],
   "source": []
  },
  {
   "cell_type": "code",
   "execution_count": 264,
   "id": "a1c79a0a-6343-4699-ba67-27aa0c782349",
   "metadata": {
    "tags": []
   },
   "outputs": [
    {
     "data": {
      "text/html": [
       "<div>\n",
       "<style scoped>\n",
       "    .dataframe tbody tr th:only-of-type {\n",
       "        vertical-align: middle;\n",
       "    }\n",
       "\n",
       "    .dataframe tbody tr th {\n",
       "        vertical-align: top;\n",
       "    }\n",
       "\n",
       "    .dataframe thead th {\n",
       "        text-align: right;\n",
       "    }\n",
       "</style>\n",
       "<table border=\"1\" class=\"dataframe\">\n",
       "  <thead>\n",
       "    <tr style=\"text-align: right;\">\n",
       "      <th></th>\n",
       "      <th>Machine</th>\n",
       "      <th>month</th>\n",
       "      <th>safety_event</th>\n",
       "      <th>Machine_binary</th>\n",
       "      <th>intercept</th>\n",
       "      <th>prob_preds</th>\n",
       "    </tr>\n",
       "  </thead>\n",
       "  <tbody>\n",
       "    <tr>\n",
       "      <th>0</th>\n",
       "      <td>B</td>\n",
       "      <td>1</td>\n",
       "      <td>0</td>\n",
       "      <td>1</td>\n",
       "      <td>1.0</td>\n",
       "      <td>0.003020</td>\n",
       "    </tr>\n",
       "    <tr>\n",
       "      <th>1</th>\n",
       "      <td>B</td>\n",
       "      <td>1</td>\n",
       "      <td>0</td>\n",
       "      <td>1</td>\n",
       "      <td>1.0</td>\n",
       "      <td>0.003020</td>\n",
       "    </tr>\n",
       "    <tr>\n",
       "      <th>2</th>\n",
       "      <td>B</td>\n",
       "      <td>2</td>\n",
       "      <td>0</td>\n",
       "      <td>1</td>\n",
       "      <td>1.0</td>\n",
       "      <td>0.003112</td>\n",
       "    </tr>\n",
       "    <tr>\n",
       "      <th>3</th>\n",
       "      <td>A</td>\n",
       "      <td>4</td>\n",
       "      <td>0</td>\n",
       "      <td>0</td>\n",
       "      <td>1.0</td>\n",
       "      <td>0.000307</td>\n",
       "    </tr>\n",
       "    <tr>\n",
       "      <th>4</th>\n",
       "      <td>B</td>\n",
       "      <td>4</td>\n",
       "      <td>0</td>\n",
       "      <td>1</td>\n",
       "      <td>1.0</td>\n",
       "      <td>0.003306</td>\n",
       "    </tr>\n",
       "  </tbody>\n",
       "</table>\n",
       "</div>"
      ],
      "text/plain": [
       "  Machine  month  safety_event  Machine_binary  intercept  prob_preds\n",
       "0       B      1             0               1        1.0    0.003020\n",
       "1       B      1             0               1        1.0    0.003020\n",
       "2       B      2             0               1        1.0    0.003112\n",
       "3       A      4             0               0        1.0    0.000307\n",
       "4       B      4             0               1        1.0    0.003306"
      ]
     },
     "execution_count": 264,
     "metadata": {},
     "output_type": "execute_result"
    }
   ],
   "source": [
    "df_factory['prob_preds'] = result_logistic1.predict(df_factory[['intercept', 'Machine_binary', 'month']])\n",
    "df_factory.head()"
   ]
  },
  {
   "cell_type": "code",
   "execution_count": 270,
   "id": "cdacb392-1832-49b1-88a5-a6027558a1c5",
   "metadata": {
    "tags": []
   },
   "outputs": [],
   "source": [
    "def classify_group(safety_event, prob_preds):\n",
    "    \n",
    "    if (safety_event == 1) & (prob_preds > 0.5):\n",
    "        return 'TP'\n",
    "    elif (safety_event == 1) & (prob_preds < 0.5):\n",
    "        return 'FP'\n",
    "    elif (safety_event == 0) & (prob_preds > 0.5):\n",
    "        return 'FN'\n",
    "    else:\n",
    "        return 'TN'"
   ]
  },
  {
   "cell_type": "code",
   "execution_count": 272,
   "id": "acc82c03-3ef1-4266-b2f6-f549091d32c2",
   "metadata": {
    "tags": []
   },
   "outputs": [],
   "source": [
    "df_factory['classification_result'] = df_factory.apply(lambda x: classify_group(x.safety_event, x.prob_preds), axis=1)"
   ]
  },
  {
   "cell_type": "code",
   "execution_count": 273,
   "id": "29c6530e-c706-44ce-8705-1e44960ef699",
   "metadata": {
    "tags": []
   },
   "outputs": [
    {
     "data": {
      "text/html": [
       "<div>\n",
       "<style scoped>\n",
       "    .dataframe tbody tr th:only-of-type {\n",
       "        vertical-align: middle;\n",
       "    }\n",
       "\n",
       "    .dataframe tbody tr th {\n",
       "        vertical-align: top;\n",
       "    }\n",
       "\n",
       "    .dataframe thead th {\n",
       "        text-align: right;\n",
       "    }\n",
       "</style>\n",
       "<table border=\"1\" class=\"dataframe\">\n",
       "  <thead>\n",
       "    <tr style=\"text-align: right;\">\n",
       "      <th></th>\n",
       "      <th>Machine</th>\n",
       "      <th>month</th>\n",
       "      <th>safety_event</th>\n",
       "      <th>Machine_binary</th>\n",
       "      <th>intercept</th>\n",
       "      <th>prob_preds</th>\n",
       "      <th>classification_result</th>\n",
       "    </tr>\n",
       "  </thead>\n",
       "  <tbody>\n",
       "    <tr>\n",
       "      <th>0</th>\n",
       "      <td>B</td>\n",
       "      <td>1</td>\n",
       "      <td>0</td>\n",
       "      <td>1</td>\n",
       "      <td>1.0</td>\n",
       "      <td>0.003020</td>\n",
       "      <td>TN</td>\n",
       "    </tr>\n",
       "    <tr>\n",
       "      <th>1</th>\n",
       "      <td>B</td>\n",
       "      <td>1</td>\n",
       "      <td>0</td>\n",
       "      <td>1</td>\n",
       "      <td>1.0</td>\n",
       "      <td>0.003020</td>\n",
       "      <td>TN</td>\n",
       "    </tr>\n",
       "    <tr>\n",
       "      <th>2</th>\n",
       "      <td>B</td>\n",
       "      <td>2</td>\n",
       "      <td>0</td>\n",
       "      <td>1</td>\n",
       "      <td>1.0</td>\n",
       "      <td>0.003112</td>\n",
       "      <td>TN</td>\n",
       "    </tr>\n",
       "    <tr>\n",
       "      <th>3</th>\n",
       "      <td>A</td>\n",
       "      <td>4</td>\n",
       "      <td>0</td>\n",
       "      <td>0</td>\n",
       "      <td>1.0</td>\n",
       "      <td>0.000307</td>\n",
       "      <td>TN</td>\n",
       "    </tr>\n",
       "    <tr>\n",
       "      <th>4</th>\n",
       "      <td>B</td>\n",
       "      <td>4</td>\n",
       "      <td>0</td>\n",
       "      <td>1</td>\n",
       "      <td>1.0</td>\n",
       "      <td>0.003306</td>\n",
       "      <td>TN</td>\n",
       "    </tr>\n",
       "  </tbody>\n",
       "</table>\n",
       "</div>"
      ],
      "text/plain": [
       "  Machine  month  safety_event  Machine_binary  intercept  prob_preds  \\\n",
       "0       B      1             0               1        1.0    0.003020   \n",
       "1       B      1             0               1        1.0    0.003020   \n",
       "2       B      2             0               1        1.0    0.003112   \n",
       "3       A      4             0               0        1.0    0.000307   \n",
       "4       B      4             0               1        1.0    0.003306   \n",
       "\n",
       "  classification_result  \n",
       "0                    TN  \n",
       "1                    TN  \n",
       "2                    TN  \n",
       "3                    TN  \n",
       "4                    TN  "
      ]
     },
     "execution_count": 273,
     "metadata": {},
     "output_type": "execute_result"
    }
   ],
   "source": [
    "df_factory.head()"
   ]
  },
  {
   "cell_type": "code",
   "execution_count": 275,
   "id": "a3b08b89-c719-4dc8-8c1a-05cf15da7ef1",
   "metadata": {
    "tags": []
   },
   "outputs": [
    {
     "data": {
      "text/plain": [
       "(69, 276, 31, 24)"
      ]
     },
     "execution_count": 275,
     "metadata": {},
     "output_type": "execute_result"
    }
   ],
   "source": [
    "TP = df_factory.loc[df_factory['classification_result'] == 'TP', :].shape[0]\n",
    "TN = df_factory.loc[df_factory['classification_result'] == 'TN', :].shape[0]\n",
    "FP = df_factory.loc[df_factory['classification_result'] == 'FP', :].shape[0]\n",
    "FN = df_factory.loc[df_factory['classification_result'] == 'FN', :].shape[0]\n",
    "\n",
    "TP, TN, FP, FN"
   ]
  },
  {
   "cell_type": "markdown",
   "id": "47575e1a-9ca6-4585-a281-4f0039d82fe5",
   "metadata": {},
   "source": [
    "|  | Test outcome Positive | Test outcome Negative |\n",
    "| --- | --- | --- |\n",
    "| Actual condition Positive | TP = 69 | FN = 24 |\n",
    "| Actual condition Negative | FP = 31 | TN = 276 |"
   ]
  },
  {
   "cell_type": "markdown",
   "id": "62976e7c-ea7f-4f3f-b7b9-85fa72d7cf78",
   "metadata": {},
   "source": [
    "<div dir=\"rtl\"> לפי טבלה לעיל קוראים: confusion matrix. ניתן להתרשם מהדיוק של המודל שלנו. \n",
    "    יש 3 מדדים מוכרים שמחשבים בעזרת הנתונים בטבלה:"
   ]
  },
  {
   "cell_type": "markdown",
   "id": "68066a98-be86-4ef5-85ad-2da4293dbf21",
   "metadata": {},
   "source": [
    "<div dir=\"rtl\"> Sensitivity (True Positive Rate or Recall): \n",
    "    בהקשר רפואי, הרגישות מראה לנו את האחוז של מקרים מחלה אמיתיים שזוהו באופן נכון כחיוביים על ידי הבדיקה.\n",
    "\n",
    "$$ Sensitivity = \\frac{TP}{ TP + FN} $$"
   ]
  },
  {
   "cell_type": "markdown",
   "id": "c171c2d8-65b9-4aa8-9e0e-f47b93899975",
   "metadata": {},
   "source": [
    "<div dir=\"rtl\"> Specificity (ספציפיות, תיקיות שלילית):\n",
    " ספציפיות מודדת את התיקיות של מקרים שליליים אמיתיים שנזהים באופן נכון על ידי הממליץ. היא עונה על השאלה: \"מתוך כל השלילים האמיתיים, כמה מהם זוהו באופן נכון כשליליים?\"\n",
    "\n",
    "$$ Specificity = \\frac{TN} {TN + FP} $$"
   ]
  },
  {
   "cell_type": "markdown",
   "id": "de82edbc-5cdd-4dc5-badb-60be25f5e504",
   "metadata": {},
   "source": [
    "<div dir=\"rtl\"> Accuracy (דיוק):\n",
    "הדיוק הוא מידת הביצוע הכללית ומייצג את היחס של המקרים שנזהו באופן נכון, למרות זהותם למחלקה. הוא עונה על השאלה: \"מתוך כל המקרים, כמה מהם זוהו באופן נכון?\"\n",
    "    \n",
    "$$ Accuracy = \\frac{TP + TN}  {TP + TN + FP + FN} $$"
   ]
  },
  {
   "cell_type": "markdown",
   "id": "7257aabe-f63f-4fa7-8619-75f05d9e75c9",
   "metadata": {},
   "source": [
    "<div dir=\"rtl\"> בעוד שהדיוק הוא מדד חשוב, הוא עשוי שלא להיות המדיד הטוב ביותר כאשר מתמודדים עם מערכות נתונים לא מאוזנים, שבהן תת-הקבוצה אחת מרבה בהרבה על השנייה. במקרים כאלה, ניתן להשיג ציון גבוה בדיוק פשוט על ידי חזיון של הקבוצה הרבה יותר פעמים, גם אם היא מבצעת פחות טוב בנוגע לקבוצה השנייה. במקרים כאלה, רגישות וספציפיות יכולות לספק מידע ממוקד יותר לגבי ביצועי הממליץ לכל קבוצה בנפרד."
   ]
  },
  {
   "cell_type": "code",
   "execution_count": 277,
   "id": "7d028f6b-16c6-454d-8a8d-99fb34f5bb28",
   "metadata": {
    "tags": []
   },
   "outputs": [
    {
     "data": {
      "text/plain": [
       "0.7419354838709677"
      ]
     },
     "execution_count": 277,
     "metadata": {},
     "output_type": "execute_result"
    }
   ],
   "source": [
    "sensitivity = TP/(TP+FN)\n",
    "sensitivity"
   ]
  },
  {
   "cell_type": "code",
   "execution_count": 278,
   "id": "90119c56-f265-45d0-b971-69278be8fdbd",
   "metadata": {
    "tags": []
   },
   "outputs": [
    {
     "data": {
      "text/plain": [
       "0.8990228013029316"
      ]
     },
     "execution_count": 278,
     "metadata": {},
     "output_type": "execute_result"
    }
   ],
   "source": [
    "specifity = TN/(TN+FP)\n",
    "specifity"
   ]
  },
  {
   "cell_type": "code",
   "execution_count": 279,
   "id": "d02da78b-f1d9-49a1-b9fc-903d6598f760",
   "metadata": {
    "tags": []
   },
   "outputs": [
    {
     "data": {
      "text/plain": [
       "0.8625"
      ]
     },
     "execution_count": 279,
     "metadata": {},
     "output_type": "execute_result"
    }
   ],
   "source": [
    "accuracy = (TP+TN)/(TP+TN+FP+FN)\n",
    "accuracy"
   ]
  },
  {
   "cell_type": "markdown",
   "id": "3721df8e-9a56-4b53-86b5-d4ce126f5a37",
   "metadata": {},
   "source": [
    "<div dir=\"rtl\"> לא תמיד קל לזהות אם הדיוק הוא טוב או לאו. זה תלוי בבעיה ומניסיון עבר. זה תלוי גם בדיוק של מודלים אחרים ואז ניתן לעשות השוואה מדויקת."
   ]
  },
  {
   "cell_type": "code",
   "execution_count": null,
   "id": "9357996a-0fa5-4b49-b2fe-0ff3e9e9840b",
   "metadata": {},
   "outputs": [],
   "source": []
  }
 ],
 "metadata": {
  "kernelspec": {
   "display_name": "queueing",
   "language": "python",
   "name": "queueing"
  },
  "language_info": {
   "codemirror_mode": {
    "name": "ipython",
    "version": 3
   },
   "file_extension": ".py",
   "mimetype": "text/x-python",
   "name": "python",
   "nbconvert_exporter": "python",
   "pygments_lexer": "ipython3",
   "version": "3.9.16"
  }
 },
 "nbformat": 4,
 "nbformat_minor": 5
}
